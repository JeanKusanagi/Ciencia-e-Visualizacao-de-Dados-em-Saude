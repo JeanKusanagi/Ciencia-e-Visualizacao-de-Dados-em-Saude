{
  "nbformat": 4,
  "nbformat_minor": 0,
  "metadata": {
    "colab": {
      "name": "L1 - MédiaCorrelacao_Jean.ipynb",
      "provenance": [],
      "collapsed_sections": [],
      "toc_visible": true
    },
    "kernelspec": {
      "name": "python3",
      "display_name": "Python 3"
    }
  },
  "cells": [
    {
      "cell_type": "markdown",
      "metadata": {
        "id": "VoxzWPtBNMHP"
      },
      "source": [
        "Jean Antonio Ribeiro<br>\n",
        "RA: 265739\n",
        "\n",
        "<strong>a) qual foi a ferramenta/linguagem escolhida?</strong>\n",
        "\n",
        "As ferramentas utilizadas foram Python/Pandas/Numpy. Essas ferramentas de fáácil manutenção.\n",
        "\n",
        "\n",
        "<strong>b) breve relato do seu processo de instalação/familiarização com a nova ferramenta, incluindo dicas para quem vai usá-la pela primeira vez;</strong>\n",
        "\n",
        "Via Notebook não há necessidade de instalar as ferramentas, apenas importar as bibliotecas necessárias. Em uma máquina local, faça as instalação das bibliotecas necessária com auxilio da ferramenta pip: \n",
        "\n",
        "sudo apt-get install python-pip<br>\n",
        "sudo pip install numpy<br>\n",
        "sudo pip install pandas\n",
        "\n",
        "\n",
        "<strong>c) descrição detalhada da análise realizada, incluindo ilustrações e código se julgar necessário;</strong>\n",
        "\n",
        "Ver subtópico Média.\n",
        "\n",
        "\n",
        "<strong>d) sua conclusão após a realização da análise, revisitando a última pergunta da parte 1: os quatro conjuntos de dados correspondem ao mesmo fenômeno?</strong>\n",
        "\n",
        "Com a linguagem de programação Python e sua bibliotecas, a manipulação de variáveis e calculo dos resultados é facilmente encontrado, tornando uma ótima ferramenta para pessoas iniciantes na área. O objetivo do estudo da correlação é determinar o grau de relacionamento entre duas variáveis ou colunas. Caso os pontos das variáveis, representados num plano cartesiano (X, Y) ou gráfico de dispersão, apresentem uma dispersão ao longo de uma reta imaginária, dizemos que os dados apresentam uma correlação linear. Por sua vez, a média calcula valores de um único conjunto de valores, sem relação com outro conjunto de valores. Como os valores são próximos e possuem uma correlação positiva forte entre elas, percebe-se os quatro conjuntos de valores podem representar o mesmo fenômeno. A análise é do tipo amostral.\n",
        "\n",
        "A Correlação entre duas variáveis de tipo quantitativo descreve a associação entre essas variáveis. O Coeficiciente de correlação amostral de Pearson, representado por r, é uma medida da direção e grau com que duas variáveis, de tipo quantitativo, se associam linearmente. O valor do coeficiente de correlação assume valores entre -1 e 1 e quanto maior for o valor de r, em módulo, maior será o grau de associação linear entre as variáveis. \n",
        "\n",
        "O Coeficiente de correlação populacional de Pearson, ρ, entre duas variáveis aleatórias X e Y, com desvio padrão diferente de zero, mede a direção e o grau com que as variáveis se associam linearmente. O valor de coeficiente de correlação populacional assume valores no intervalo [-1,1]."
      ]
    },
    {
      "cell_type": "code",
      "metadata": {
        "id": "jnIGVcRojZYs"
      },
      "source": [
        "# http://artedosdados.blogspot.com/2015/01/matriz-de-correlacao-em-python.html\n",
        "# https://felipegalvao.com.br/pt/blog/descriptive-statistics-with-python/"
      ],
      "execution_count": null,
      "outputs": []
    },
    {
      "cell_type": "code",
      "metadata": {
        "id": "q18QiDU8UCuC",
        "colab": {
          "base_uri": "https://localhost:8080/"
        },
        "outputId": "b71f8ac3-23eb-481f-adf6-940d7f34255a"
      },
      "source": [
        "import pandas as pd\n",
        "import numpy as np\n",
        "import matplotlib.pyplot as plt\n",
        "import seaborn as sns\n",
        "%matplotlib inline\n",
        "import statsmodels.api as sm\n",
        "import statsmodels.formula.api as smf\n",
        "from sklearn import metrics\n",
        "from sklearn.linear_model import LogisticRegression\n",
        "from sklearn.model_selection import train_test_split, GridSearchCV\n",
        "from sklearn.metrics import roc_auc_score, roc_curve, classification_report, accuracy_score, confusion_matrix, auc, precision_recall_curve, precision_score, recall_score, f1_score\n",
        "from google.colab import drive\n",
        "\n",
        "drive.mount('/content/drive')"
      ],
      "execution_count": null,
      "outputs": [
        {
          "output_type": "stream",
          "text": [
            "/usr/local/lib/python3.7/dist-packages/statsmodels/tools/_testing.py:19: FutureWarning: pandas.util.testing is deprecated. Use the functions in the public API at pandas.testing instead.\n",
            "  import pandas.util.testing as tm\n"
          ],
          "name": "stderr"
        },
        {
          "output_type": "stream",
          "text": [
            "Mounted at /content/drive\n"
          ],
          "name": "stdout"
        }
      ]
    },
    {
      "cell_type": "code",
      "metadata": {
        "colab": {
          "base_uri": "https://localhost:8080/",
          "height": 206
        },
        "id": "jjgr_Hc4vR1o",
        "outputId": "e3c8f352-a195-43ff-fe26-cf638584ba64"
      },
      "source": [
        "df = pd.read_csv(\"/content/drive/My Drive/DataSet/bemocsna.csv\")\n",
        "df.head()"
      ],
      "execution_count": null,
      "outputs": [
        {
          "output_type": "execute_result",
          "data": {
            "text/html": [
              "<div>\n",
              "<style scoped>\n",
              "    .dataframe tbody tr th:only-of-type {\n",
              "        vertical-align: middle;\n",
              "    }\n",
              "\n",
              "    .dataframe tbody tr th {\n",
              "        vertical-align: top;\n",
              "    }\n",
              "\n",
              "    .dataframe thead th {\n",
              "        text-align: right;\n",
              "    }\n",
              "</style>\n",
              "<table border=\"1\" class=\"dataframe\">\n",
              "  <thead>\n",
              "    <tr style=\"text-align: right;\">\n",
              "      <th></th>\n",
              "      <th>x1</th>\n",
              "      <th>x2</th>\n",
              "      <th>x3</th>\n",
              "      <th>x4</th>\n",
              "      <th>y1</th>\n",
              "      <th>y2</th>\n",
              "      <th>y3</th>\n",
              "      <th>y4</th>\n",
              "    </tr>\n",
              "  </thead>\n",
              "  <tbody>\n",
              "    <tr>\n",
              "      <th>0</th>\n",
              "      <td>10</td>\n",
              "      <td>10</td>\n",
              "      <td>10</td>\n",
              "      <td>8</td>\n",
              "      <td>8.04</td>\n",
              "      <td>9.14</td>\n",
              "      <td>7.46</td>\n",
              "      <td>6.58</td>\n",
              "    </tr>\n",
              "    <tr>\n",
              "      <th>1</th>\n",
              "      <td>8</td>\n",
              "      <td>8</td>\n",
              "      <td>8</td>\n",
              "      <td>8</td>\n",
              "      <td>6.95</td>\n",
              "      <td>8.14</td>\n",
              "      <td>6.77</td>\n",
              "      <td>5.76</td>\n",
              "    </tr>\n",
              "    <tr>\n",
              "      <th>2</th>\n",
              "      <td>13</td>\n",
              "      <td>13</td>\n",
              "      <td>13</td>\n",
              "      <td>8</td>\n",
              "      <td>7.58</td>\n",
              "      <td>8.74</td>\n",
              "      <td>12.74</td>\n",
              "      <td>7.71</td>\n",
              "    </tr>\n",
              "    <tr>\n",
              "      <th>3</th>\n",
              "      <td>9</td>\n",
              "      <td>9</td>\n",
              "      <td>9</td>\n",
              "      <td>8</td>\n",
              "      <td>8.81</td>\n",
              "      <td>8.77</td>\n",
              "      <td>7.11</td>\n",
              "      <td>8.84</td>\n",
              "    </tr>\n",
              "    <tr>\n",
              "      <th>4</th>\n",
              "      <td>11</td>\n",
              "      <td>11</td>\n",
              "      <td>11</td>\n",
              "      <td>8</td>\n",
              "      <td>8.33</td>\n",
              "      <td>9.26</td>\n",
              "      <td>7.81</td>\n",
              "      <td>8.47</td>\n",
              "    </tr>\n",
              "  </tbody>\n",
              "</table>\n",
              "</div>"
            ],
            "text/plain": [
              "   x1  x2  x3  x4    y1    y2     y3    y4\n",
              "0  10  10  10   8  8.04  9.14   7.46  6.58\n",
              "1   8   8   8   8  6.95  8.14   6.77  5.76\n",
              "2  13  13  13   8  7.58  8.74  12.74  7.71\n",
              "3   9   9   9   8  8.81  8.77   7.11  8.84\n",
              "4  11  11  11   8  8.33  9.26   7.81  8.47"
            ]
          },
          "metadata": {
            "tags": []
          },
          "execution_count": 3
        }
      ]
    },
    {
      "cell_type": "code",
      "metadata": {
        "colab": {
          "base_uri": "https://localhost:8080/",
          "height": 206
        },
        "id": "0LnpRblIFc9G",
        "outputId": "f3bead97-5a9f-4448-f77c-aeff72937272"
      },
      "source": [
        "baseline_df = df[['x1', 'y1']].dropna()\n",
        "baseline_df.head()"
      ],
      "execution_count": null,
      "outputs": [
        {
          "output_type": "execute_result",
          "data": {
            "text/html": [
              "<div>\n",
              "<style scoped>\n",
              "    .dataframe tbody tr th:only-of-type {\n",
              "        vertical-align: middle;\n",
              "    }\n",
              "\n",
              "    .dataframe tbody tr th {\n",
              "        vertical-align: top;\n",
              "    }\n",
              "\n",
              "    .dataframe thead th {\n",
              "        text-align: right;\n",
              "    }\n",
              "</style>\n",
              "<table border=\"1\" class=\"dataframe\">\n",
              "  <thead>\n",
              "    <tr style=\"text-align: right;\">\n",
              "      <th></th>\n",
              "      <th>x1</th>\n",
              "      <th>y1</th>\n",
              "    </tr>\n",
              "  </thead>\n",
              "  <tbody>\n",
              "    <tr>\n",
              "      <th>0</th>\n",
              "      <td>10</td>\n",
              "      <td>8.04</td>\n",
              "    </tr>\n",
              "    <tr>\n",
              "      <th>1</th>\n",
              "      <td>8</td>\n",
              "      <td>6.95</td>\n",
              "    </tr>\n",
              "    <tr>\n",
              "      <th>2</th>\n",
              "      <td>13</td>\n",
              "      <td>7.58</td>\n",
              "    </tr>\n",
              "    <tr>\n",
              "      <th>3</th>\n",
              "      <td>9</td>\n",
              "      <td>8.81</td>\n",
              "    </tr>\n",
              "    <tr>\n",
              "      <th>4</th>\n",
              "      <td>11</td>\n",
              "      <td>8.33</td>\n",
              "    </tr>\n",
              "  </tbody>\n",
              "</table>\n",
              "</div>"
            ],
            "text/plain": [
              "   x1    y1\n",
              "0  10  8.04\n",
              "1   8  6.95\n",
              "2  13  7.58\n",
              "3   9  8.81\n",
              "4  11  8.33"
            ]
          },
          "metadata": {
            "tags": []
          },
          "execution_count": 4
        }
      ]
    },
    {
      "cell_type": "markdown",
      "metadata": {
        "id": "YKz_ltNHLRsR"
      },
      "source": [
        "<strong>3. Com base nas estatísticas descritivas de média e correlação das variáveis, você diria que os quatro conjuntos de valores representam o mesmo fenômeno?</strong>\n",
        "\n",
        "Sim, já que os valores são próximos e possuem uma correlação positiva forte entre as variáveis, percebe-se os conjuntos de valores podem representar o mesmo fenômeno.\n",
        "\n",
        "O objetivo do estudo da correlação é determinar o grau de relacionamento entre duas variáveis ou colunas. Caso os pontos das variáveis, representados num plano cartesiano (X, Y) ou gráfico de dispersão, apresentem uma dispersão ao longo de uma reta imaginária, dizemos que os dados apresentam uma correlação linear. Por sua vez, a média calcula valores de um único conjunto de valores, sem relação com outro conjunto de valores. "
      ]
    },
    {
      "cell_type": "code",
      "metadata": {
        "id": "yyTHc1vOqSsL",
        "colab": {
          "base_uri": "https://localhost:8080/",
          "height": 772
        },
        "outputId": "09392367-f7d7-4705-8855-2fe601206735"
      },
      "source": [
        "corr = df.corr()\n",
        "\n",
        "# Generate a mask for the upper triangle\n",
        "mask = np.zeros_like(corr, dtype=np.bool)\n",
        "mask[np.triu_indices_from(mask)] = True\n",
        "\n",
        "# Set up the matplotlib figure\n",
        "f, ax = plt.subplots(figsize=(30, 15))\n",
        "\n",
        "# Generate a custom diverging colormap\n",
        "cmap = sns.diverging_palette(220, 10, as_cmap=True)\n",
        "\n",
        "# Draw the heatmap with the mask and correct aspect ratio\n",
        "sns.heatmap(corr, mask=mask, cmap=cmap, center=0,annot=True, square=True, linewidths=.5, cbar_kws={\"shrink\": .5});"
      ],
      "execution_count": null,
      "outputs": [
        {
          "output_type": "display_data",
          "data": {
            "image/png": "[encoded data removed]",
            "text/plain": [
              "<Figure size 2160x1080 with 2 Axes>"
            ]
          },
          "metadata": {
            "tags": [],
            "needs_background": "light"
          }
        }
      ]
    },
    {
      "cell_type": "code",
      "metadata": {
        "id": "Jl_M9dQyFlPm",
        "colab": {
          "base_uri": "https://localhost:8080/",
          "height": 421
        },
        "outputId": "432bedda-89fc-4300-aaa4-d3a6e1190362"
      },
      "source": [
        "import matplotlib.pyplot as plt\n",
        "import seaborn as sns\n",
        "plt.figure(figsize=(25, 10))\n",
        "\n",
        "sns.heatmap(baseline_df.corr(), annot = True, fmt = '.2f', cmap='Blues')\n",
        "plt.title('Correlação entre variáveis do dataset de bemocsna.csv')\n",
        "plt.show()"
      ],
      "execution_count": null,
      "outputs": [
        {
          "output_type": "display_data",
          "data": {
            "image/png": "[encoded data removed]",
            "text/plain": [
              "<Figure size 1800x720 with 2 Axes>"
            ]
          },
          "metadata": {
            "tags": [],
            "needs_background": "light"
          }
        }
      ]
    },
    {
      "cell_type": "code",
      "metadata": {
        "id": "nSA95WgYB-e4",
        "colab": {
          "base_uri": "https://localhost:8080/",
          "height": 422
        },
        "outputId": "56c2e70d-fa0a-4a30-ef97-f37c32a35690"
      },
      "source": [
        "import matplotlib.pyplot as plt\n",
        "import seaborn as sns\n",
        "plt.figure(figsize=(25, 10))\n",
        "\n",
        "sns.heatmap(df.corr(), annot = True, fmt = '.2f', cmap='Blues')\n",
        "plt.title('Correlação entre variáveis do dataset de bemocsna.csv')\n",
        "plt.show()"
      ],
      "execution_count": null,
      "outputs": [
        {
          "output_type": "display_data",
          "data": {
            "image/png": "[encoded data removed]",
            "text/plain": [
              "<Figure size 1800x720 with 2 Axes>"
            ]
          },
          "metadata": {
            "tags": [],
            "needs_background": "light"
          }
        }
      ]
    },
    {
      "cell_type": "code",
      "metadata": {
        "colab": {
          "base_uri": "https://localhost:8080/",
          "height": 578
        },
        "id": "I_Qlh8TRlUpP",
        "outputId": "a1001058-fa45-4a2a-fff8-0b3074ef35e6"
      },
      "source": [
        "#Calculo das correlacoes dos retornos e criação dos gráficos. \n",
        "# quanto mais clara a cor, mais forte é a correlação entre os retornos de cada ativo \n",
        "rets3 = df[:].pct_change()\n",
        "corr = rets3.corr()\n",
        "plt.figure(figsize=(10, 10))\n",
        "plt.title('Correlação: quanto mais clara a cor, mais forte é a correlação entre os retornos de cada ativo ')\n",
        "plt.imshow(corr, cmap='hot', interpolation='none')  \n",
        "plt.colorbar()  \n",
        "plt.xticks(range(len(corr)), corr.columns)  \n",
        "plt.yticks(range(len(corr)), corr.columns);  \n",
        "plt.savefig(\"correl.png\")  \n",
        "plt.show()"
      ],
      "execution_count": null,
      "outputs": [
        {
          "output_type": "display_data",
          "data": {
            "image/png": "[encoded data removed]",
            "text/plain": [
              "<Figure size 720x720 with 2 Axes>"
            ]
          },
          "metadata": {
            "tags": [],
            "needs_background": "light"
          }
        }
      ]
    },
    {
      "cell_type": "markdown",
      "metadata": {
        "id": "f3RYMolMmlgy"
      },
      "source": [
        "# Correlação"
      ]
    },
    {
      "cell_type": "code",
      "metadata": {
        "colab": {
          "base_uri": "https://localhost:8080/"
        },
        "id": "qWcbjCxOnnhU",
        "outputId": "87149da8-8cd1-429a-e21a-02644fa81da6"
      },
      "source": [
        "print(df.corr())"
      ],
      "execution_count": null,
      "outputs": [
        {
          "output_type": "stream",
          "text": [
            "          x1        x2        x3  ...        y2        y3        y4\n",
            "x1  1.000000  1.000000  1.000000  ...  0.816236  0.816287 -0.314047\n",
            "x2  1.000000  1.000000  1.000000  ...  0.816236  0.816287 -0.314047\n",
            "x3  1.000000  1.000000  1.000000  ...  0.816236  0.816287 -0.314047\n",
            "x4 -0.500000 -0.500000 -0.500000  ... -0.718437 -0.344661  0.816521\n",
            "y1  0.816421  0.816421  0.816421  ...  0.750005  0.468717 -0.489116\n",
            "y2  0.816236  0.816236  0.816236  ...  1.000000  0.587919 -0.478095\n",
            "y3  0.816287  0.816287  0.816287  ...  0.587919  1.000000 -0.155472\n",
            "y4 -0.314047 -0.314047 -0.314047  ... -0.478095 -0.155472  1.000000\n",
            "\n",
            "[8 rows x 8 columns]\n"
          ],
          "name": "stdout"
        }
      ]
    },
    {
      "cell_type": "markdown",
      "metadata": {
        "id": "6dx3oy1bmnGs"
      },
      "source": [
        "# Covariância"
      ]
    },
    {
      "cell_type": "code",
      "metadata": {
        "colab": {
          "base_uri": "https://localhost:8080/"
        },
        "id": "O-OISBO_mKgT",
        "outputId": "4e1fd971-1928-40e7-a5ed-9e6c01ceed32"
      },
      "source": [
        "print(df.cov())"
      ],
      "execution_count": null,
      "outputs": [
        {
          "output_type": "stream",
          "text": [
            "           x1         x2         x3  ...        y2        y3        y4\n",
            "x1  10.000000  10.000000  10.000000  ...  5.000000  4.997273 -1.922727\n",
            "x2  10.000000  10.000000  10.000000  ...  5.000000  4.997273 -1.922727\n",
            "x3  10.000000  10.000000  10.000000  ...  5.000000  4.997273 -1.922727\n",
            "x4  -5.000000  -5.000000  -5.000000  ... -4.400909 -2.110000  4.999091\n",
            "y1   5.000909   5.000909   5.000909  ...  2.814190  1.757664 -1.834301\n",
            "y2   5.000000   5.000000   5.000000  ...  3.752390  2.204764 -1.793046\n",
            "y3   4.997273   4.997273   4.997273  ...  2.204764  3.747836 -0.582727\n",
            "y4  -1.922727  -1.922727  -1.922727  ... -1.793046 -0.582727  3.748408\n",
            "\n",
            "[8 rows x 8 columns]\n"
          ],
          "name": "stdout"
        }
      ]
    },
    {
      "cell_type": "markdown",
      "metadata": {
        "id": "fcrmzV7mjowc"
      },
      "source": [
        "# Média"
      ]
    },
    {
      "cell_type": "code",
      "metadata": {
        "colab": {
          "base_uri": "https://localhost:8080/"
        },
        "id": "_-665nt1ssiW",
        "outputId": "122bf6c1-0e39-4d04-99a8-2e7b9d54ee4a"
      },
      "source": [
        "print(df['x1'].mean(), df['x2'].mean(), df['x3'].mean(), df['x4'].mean())\n",
        "print(df['y1'].mean(), df['y2'].mean(), df['y3'].mean(), df['y4'].mean())"
      ],
      "execution_count": null,
      "outputs": [
        {
          "output_type": "stream",
          "text": [
            "9.0 9.0 9.0 9.0\n",
            "7.500833333333335 7.5008333333333335 7.500000000000001 7.500833333333333\n"
          ],
          "name": "stdout"
        }
      ]
    },
    {
      "cell_type": "code",
      "metadata": {
        "colab": {
          "base_uri": "https://localhost:8080/"
        },
        "id": "IPS327pnvX_H",
        "outputId": "54811d05-7540-472c-a0a7-7022021009bc"
      },
      "source": [
        "print(\"%.3f, %.3f, %.3f, %.3f\" % (df['x1'].mean(),df['x2'].mean(),df['x3'].mean(),df['x4'].mean()))\n",
        "print(\"%.3f, %.3f, %.3f, %.3f\" % (df['y1'].mean(),df['y2'].mean(),df['y3'].mean(),df['y4'].mean()))"
      ],
      "execution_count": null,
      "outputs": [
        {
          "output_type": "stream",
          "text": [
            "9.000, 9.000, 9.000, 9.000\n",
            "7.501, 7.501, 7.500, 7.501\n"
          ],
          "name": "stdout"
        }
      ]
    },
    {
      "cell_type": "markdown",
      "metadata": {
        "id": "qBd1Ti2zlfTY"
      },
      "source": [
        "# Mediana e Quantil"
      ]
    },
    {
      "cell_type": "code",
      "metadata": {
        "colab": {
          "base_uri": "https://localhost:8080/"
        },
        "id": "3Y5qilx1jmnT",
        "outputId": "adfe737e-a92a-41c2-9205-d4edd0f070c4"
      },
      "source": [
        "print(df['x1'].median(), df['x2'].median(), df['x3'].median(), df['x4'].median())\n",
        "print(df['y1'].median(), df['y2'].median(), df['y3'].median(), df['y4'].median())"
      ],
      "execution_count": null,
      "outputs": [
        {
          "output_type": "stream",
          "text": [
            "9.0 9.0 9.0 8.0\n",
            "7.54 8.120000000000001 7.285 7.27\n"
          ],
          "name": "stdout"
        }
      ]
    },
    {
      "cell_type": "code",
      "metadata": {
        "colab": {
          "base_uri": "https://localhost:8080/"
        },
        "id": "0ezt1-_RlikL",
        "outputId": "de00e370-0438-4108-f4e6-9d6051bbe04a"
      },
      "source": [
        "print(df['x1'].quantile(q=0.25), df['x2'].quantile(q=0.25), df['x3'].quantile(q=0.25), df['x4'].quantile(q=0.25))\n",
        "print(df['y1'].quantile(q=0.25), df['y2'].quantile(q=0.25), df['y3'].quantile(q=0.25), df['y4'].quantile(q=0.25))"
      ],
      "execution_count": null,
      "outputs": [
        {
          "output_type": "stream",
          "text": [
            "6.75 6.75 6.75 8.0\n",
            "6.6325 6.9775 6.334999999999999 6.375\n"
          ],
          "name": "stdout"
        }
      ]
    },
    {
      "cell_type": "markdown",
      "metadata": {
        "id": "K2kvF3HXlx32"
      },
      "source": [
        "# Moda"
      ]
    },
    {
      "cell_type": "code",
      "metadata": {
        "colab": {
          "base_uri": "https://localhost:8080/"
        },
        "id": "cDgiXO0ulaQJ",
        "outputId": "5f2f6db5-65b1-4f7e-d066-a939f5ed3be4"
      },
      "source": [
        "print(df['x1'].mode(), df['x2'].mode(), df['x3'].mode(), df['x4'].mode())\n",
        "print(df['y1'].mode(), df['y2'].mode(), df['y3'].mode(), df['y4'].mode())"
      ],
      "execution_count": null,
      "outputs": [
        {
          "output_type": "stream",
          "text": [
            "0    9\n",
            "dtype: int64 0    9\n",
            "dtype: int64 0    9\n",
            "dtype: int64 0    8\n",
            "dtype: int64\n",
            "0      4.26\n",
            "1      4.82\n",
            "2      5.68\n",
            "3      6.95\n",
            "4      7.24\n",
            "5      7.50\n",
            "6      7.58\n",
            "7      8.04\n",
            "8      8.33\n",
            "9      8.81\n",
            "10     9.96\n",
            "11    10.84\n",
            "dtype: float64 0     3.10\n",
            "1     4.74\n",
            "2     6.13\n",
            "3     7.26\n",
            "4     7.50\n",
            "5     8.10\n",
            "6     8.14\n",
            "7     8.74\n",
            "8     8.77\n",
            "9     9.13\n",
            "10    9.14\n",
            "11    9.26\n",
            "dtype: float64 0      5.39\n",
            "1      5.73\n",
            "2      6.08\n",
            "3      6.42\n",
            "4      6.77\n",
            "5      7.11\n",
            "6      7.46\n",
            "7      7.50\n",
            "8      7.81\n",
            "9      8.15\n",
            "10     8.84\n",
            "11    12.74\n",
            "dtype: float64 0      5.25\n",
            "1      5.56\n",
            "2      5.76\n",
            "3      6.58\n",
            "4      6.89\n",
            "5      7.04\n",
            "6      7.50\n",
            "7      7.71\n",
            "8      7.91\n",
            "9      8.47\n",
            "10     8.84\n",
            "11    12.50\n",
            "dtype: float64\n"
          ],
          "name": "stdout"
        }
      ]
    },
    {
      "cell_type": "markdown",
      "metadata": {
        "id": "xT0yfZjfmZLG"
      },
      "source": [
        "# Variância"
      ]
    },
    {
      "cell_type": "code",
      "metadata": {
        "colab": {
          "base_uri": "https://localhost:8080/"
        },
        "id": "4EmX7CLLmQcx",
        "outputId": "2319e5e0-b2ea-47a9-9045-b9776ac42a77"
      },
      "source": [
        "print(df['x1'].var(), df['x2'].var(), df['x3'].var(), df['x4'].var())\n",
        "print(df['y1'].var(), df['y2'].var(), df['y3'].var(), df['y4'].var())"
      ],
      "execution_count": null,
      "outputs": [
        {
          "output_type": "stream",
          "text": [
            "10.0 10.0 10.0 10.0\n",
            "3.752062878787879 3.752390151515151 3.747836363636364 3.7484083333333342\n"
          ],
          "name": "stdout"
        }
      ]
    },
    {
      "cell_type": "code",
      "metadata": {
        "colab": {
          "base_uri": "https://localhost:8080/"
        },
        "id": "kSabxv-rv10o",
        "outputId": "df1d3c91-f823-4e9a-b524-dcc65a80623c"
      },
      "source": [
        "print(\"%.3f, %.3f, %.3f, %.3f\" % (df['x1'].var(),df['x2'].var(),df['x3'].var(),df['x4'].var()))\n",
        "print(\"%.3f, %.3f, %.3f, %.3f\" % (df['y1'].var(),df['y2'].var(),df['y3'].var(),df['y4'].var()))"
      ],
      "execution_count": null,
      "outputs": [
        {
          "output_type": "stream",
          "text": [
            "10.000, 10.000, 10.000, 10.000\n",
            "3.752, 3.752, 3.748, 3.748\n"
          ],
          "name": "stdout"
        }
      ]
    },
    {
      "cell_type": "markdown",
      "metadata": {
        "id": "EeBOcrg3mbi6"
      },
      "source": [
        "# Desvio Padrão"
      ]
    },
    {
      "cell_type": "code",
      "metadata": {
        "colab": {
          "base_uri": "https://localhost:8080/"
        },
        "id": "gcjhjC0mmSQp",
        "outputId": "0639cb83-da38-4e6c-9328-910f734f8c0e"
      },
      "source": [
        "print(df['x1'].std(), df['x2'].std(), df['x3'].std(), df['x4'].std())\n",
        "print(df['y1'].std(), df['y2'].std(), df['y3'].std(), df['y4'].std())"
      ],
      "execution_count": null,
      "outputs": [
        {
          "output_type": "stream",
          "text": [
            "3.1622776601683795 3.1622776601683795 3.1622776601683795 3.1622776601683795\n",
            "1.9370242328860727 1.9371087092662485 1.9359329439927313 1.9360806629201517\n"
          ],
          "name": "stdout"
        }
      ]
    },
    {
      "cell_type": "code",
      "metadata": {
        "colab": {
          "base_uri": "https://localhost:8080/"
        },
        "id": "A7NuBzAEuPZ4",
        "outputId": "03c96bbe-7673-40dc-dcaa-0015c72ee3f0"
      },
      "source": [
        "print(\"%.3f, %.3f, %.3f, %.3f\" % (df['x1'].std(),df['x2'].std(),df['x3'].std(),df['x4'].std()))\n",
        "print(\"%.3f, %.3f, %.3f, %.3f\" % (df['y1'].std(),df['y2'].std(),df['y3'].std(),df['y4'].std()))"
      ],
      "execution_count": null,
      "outputs": [
        {
          "output_type": "stream",
          "text": [
            "3.162, 3.162, 3.162, 3.162\n",
            "1.937, 1.937, 1.936, 1.936\n"
          ],
          "name": "stdout"
        }
      ]
    }
  ]
}