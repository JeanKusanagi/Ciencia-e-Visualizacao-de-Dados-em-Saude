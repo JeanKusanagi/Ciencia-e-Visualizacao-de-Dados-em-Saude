{
  "nbformat": 4,
  "nbformat_minor": 0,
  "metadata": {
    "colab": {
      "name": "L6_DL_tumor_classification_DL.ipynb",
      "provenance": [],
      "collapsed_sections": [],
      "toc_visible": true
    },
    "kernelspec": {
      "name": "python3",
      "display_name": "Python 3"
    },
    "language_info": {
      "name": "python"
    },
    "accelerator": "GPU"
  },
  "cells": [
    {
      "cell_type": "markdown",
      "metadata": {
        "id": "-0uu-BII1hEz"
      },
      "source": [
        "# Brain MRI classification using Deep Learning"
      ]
    },
    {
      "cell_type": "markdown",
      "metadata": {
        "id": "RqK2VSuUSOkr"
      },
      "source": [
        "Nesta atividade, o objetivo, mais uma vez, é classificar imagens de ressonância magnética do cérebro em imagens com tumor (*tumor*) e imagens sem tumor (*health*). Para simplificar a tarefa, as imagens já foram processadas e, ao invés de serem fornecidas como imagens volumétricas (3D) em formato DICOM, elas estão sendo fornecidas como fatias (imagens 2D) e no formato jpg.\n",
        "\n",
        "Em contraste com a atividade da semana passada, usaremos uma rede neural convolucional (CNN) para a classificação. Ou seja, diferentemente do *pipeline* de classificação tradicional, os atributos serão extraídos pela própria CNN e não teremos que nos preocupar com isso.\n",
        "\n",
        "Este notebook mostra como se faz para carregar as imagens, descrever a CNN a ser usada, treinar e predizer. O treinamento mostrado não trata os dados antes de inseri-los na rede nem utiliza as técnicas mais avançadas de Deep Learning, como *data augmentation* e *transfer learning*. A ideia é que você explore estes passos adicionais, tentando melhorar a acurácia de classificação.\n"
      ]
    },
    {
      "cell_type": "code",
      "metadata": {
        "id": "ZuzagY1D1gfC"
      },
      "source": [
        "# Imports\n",
        "\n",
        "# import the needed libs\n",
        "\n",
        "from __future__ import print_function, division\n",
        "\n",
        "import matplotlib.pyplot as plt\n",
        "\n",
        "import torch\n",
        "import torch.nn as nn\n",
        "import torch.optim as optim\n",
        "from torch.optim import lr_scheduler\n",
        "import numpy as np\n",
        "import torchvision\n",
        "from torchvision import datasets, models, transforms\n",
        "from torchsummary import summary\n",
        "import time\n",
        "import os\n",
        "import copy\n",
        "from sklearn.metrics import confusion_matrix\n",
        "\n",
        "plt.ion()   # interactive mode\n",
        "\n",
        "# connect drive\n",
        "#from google.colab import drive\n",
        "#drive.mount('/content/gdrive')\n",
        "\n",
        "#!ls 'gdrive/MyDrive/Brain_Tumor_Classification_Dataset/'"
      ],
      "execution_count": 60,
      "outputs": []
    },
    {
      "cell_type": "code",
      "metadata": {
        "id": "nN9JWMIMEAaX"
      },
      "source": [
        "DATA_DIR = './DataSets/'\n",
        "\n",
        "# load repo with data if it is not exists\n",
        "if not os.path.exists(DATA_DIR):\n",
        "    print('Loading data...')\n",
        "    os.system('git clone https://github.com/JeanKusanagi/DataSets ./DataSets')\n",
        "    print('Done!')\n",
        "\n",
        "import pathlib\n",
        "PATH = \"/content/DataSets/Brain_Tumor/\"\n",
        "PATH = pathlib.Path(PATH)"
      ],
      "execution_count": 61,
      "outputs": []
    },
    {
      "cell_type": "code",
      "metadata": {
        "id": "HTbdSv8C9wv6"
      },
      "source": [
        "# Number of epochs to train for\n",
        "EPOCHS = 10\n",
        "\n",
        "# Number of classes in the dataset\n",
        "num_classes = 2\n",
        "\n",
        "# Batch size for training (change depending on how much memory you have)\n",
        "batch_size = 8\n",
        "\n",
        "# Number of epochs to train for\n",
        "EPOCHS = 10\n",
        "\n",
        "input_size = 224\n",
        "\n",
        "string_all = []\n",
        "sensibilidade_all = []\n",
        "especificidade_all = []\n",
        "acc_all = []"
      ],
      "execution_count": 62,
      "outputs": []
    },
    {
      "cell_type": "markdown",
      "metadata": {
        "id": "aO_J7mMmcj1g"
      },
      "source": [
        "##**Funções**"
      ]
    },
    {
      "cell_type": "code",
      "metadata": {
        "id": "YOw_93p414mo"
      },
      "source": [
        "def train_model(model, criterion, optimizer, scheduler, num_epochs=25):\n",
        "    since = time.time()\n",
        "\n",
        "    best_model_wts = copy.deepcopy(model.state_dict())\n",
        "    best_acc = 0.0\n",
        "\n",
        "    for epoch in range(num_epochs):\n",
        "        print('Epoch {}/{}'.format(epoch, num_epochs - 1))\n",
        "        print('-' * 10)\n",
        "\n",
        "        # Each epoch has a training and validation phase\n",
        "        for phase in ['train', 'val']:\n",
        "            if phase == 'train':\n",
        "                model.train()  # Set model to training mode\n",
        "            else:\n",
        "                model.eval()   # Set model to evaluate mode\n",
        "\n",
        "            running_loss = 0.0\n",
        "            running_corrects = 0\n",
        "\n",
        "            # Iterate over data.\n",
        "            for inputs, labels in dataloaders[phase]:\n",
        "                inputs = inputs.to(device)\n",
        "                labels = labels.to(device)\n",
        "\n",
        "                # zero the parameter gradients\n",
        "                optimizer.zero_grad()\n",
        "\n",
        "                # forward\n",
        "                # track history if only in train\n",
        "                with torch.set_grad_enabled(phase == 'train'):\n",
        "                    outputs = model(inputs)\n",
        "                    _, preds = torch.max(outputs, 1)\n",
        "                    loss = criterion(outputs, labels)\n",
        "\n",
        "                    # backward + optimize only if in training phase\n",
        "                    if phase == 'train':\n",
        "                        loss.backward()\n",
        "                        optimizer.step()\n",
        "\n",
        "                # statistics\n",
        "                running_loss += loss.item() * inputs.size(0)\n",
        "                running_corrects += torch.sum(preds == labels.data)\n",
        "            if phase == 'train':\n",
        "                scheduler.step()\n",
        "\n",
        "            epoch_loss = running_loss / dataset_sizes[phase]\n",
        "            epoch_acc = running_corrects.double() / dataset_sizes[phase]\n",
        "\n",
        "            print('{} Loss: {:.4f} Acc: {:.4f}'.format(phase, epoch_loss, epoch_acc))\n",
        "\n",
        "            # deep copy the model\n",
        "            if phase == 'val' and epoch_acc > best_acc:\n",
        "                best_acc = epoch_acc\n",
        "                best_model_wts = copy.deepcopy(model.state_dict())\n",
        "                \n",
        "            if phase == 'train':\n",
        "                LOSS_train.append(epoch_loss)\n",
        "                ACC_train.append(epoch_acc)\n",
        "            if phase == 'val':\n",
        "                LOSS_val.append(epoch_loss)\n",
        "                ACC_val.append(epoch_acc)\n",
        "        \n",
        "        print()\n",
        "\n",
        "    time_elapsed = time.time() - since\n",
        "    print('Training complete in {:.0f}m {:.0f}s'.format(time_elapsed // 60, time_elapsed % 60))\n",
        "    print('Best val Acc: {:4f}'.format(best_acc))\n",
        "\n",
        "    # load best model weights\n",
        "    model.load_state_dict(best_model_wts)\n",
        "    return model\n",
        "\n",
        "def predic_model(model, plot_img = False, num_images=24):\n",
        "    was_training = model.training\n",
        "    model.eval()\n",
        "    images_so_far = 0\n",
        "    PREDICTED = []\n",
        "    LABEL = []\n",
        "\n",
        "    with torch.no_grad():\n",
        "        for i, (inputs, labels) in enumerate(dataloaders['test']):\n",
        "            inputs = inputs.to(device)\n",
        "            labels = labels.to(device)\n",
        "            # print(len(labels))\n",
        "\n",
        "            outputs = model(inputs)\n",
        "            _, preds = torch.max(outputs, 1)\n",
        "\n",
        "            for j in range(inputs.size()[0]):\n",
        "              images_so_far += 1\n",
        "              PREDICTED.append(class_names[preds[j]])\n",
        "              LABEL.append(class_names[labels[j]])\n",
        "              if plot_img:\n",
        "                plt.figure()\n",
        "                plt.imshow(inputs.cpu().data[j].numpy().transpose((1, 2, 0)))\n",
        "                plt.axis('off')\n",
        "                plt.title('predicted: {} - label: {}'.format(class_names[preds[j]], class_names[labels[j]]))\n",
        "                plt.plot()\n",
        "\n",
        "              if images_so_far == num_images:\n",
        "                model.train(mode=was_training)\n",
        "                # break\n",
        "                return PREDICTED, LABEL\n",
        "\n",
        "        model.train(mode=was_training)\n",
        "\n",
        "    return PREDICTED, LABEL"
      ],
      "execution_count": 63,
      "outputs": []
    },
    {
      "cell_type": "markdown",
      "metadata": {
        "id": "KzMb9jK71vuD"
      },
      "source": [
        "#**Parte 1 - Carregando os dados (imagens e rótulos) usando o DataLoader**\n",
        "\n",
        "Normalmente treinamento de CNNs pressupõe o uso de conjuntos de dados muito grandes. O carregamento destes conjuntos de dados em um NB pode dar bastante trabalho e causar problemas, como falta de memória, dentre outros. Para isso, costumamos usar um *dataloader*, especificamente desenvolvido para isso. Para mais informações sobre *dataloader* consulte o [link](https://pytorch.org/docs/stable/data.html#torch.utils.data.DataLoader).\n",
        "\n",
        "**Pre-processamento dos dados e Data Augmentation**\n",
        "\n",
        "As tranformações que queremos fazer nos dados precisam ser definidas antes de chamar o DataLoader. Assim, quando ele carrega os dados, já aplica as transformações desejadas. Você verá que a única transformação que está sendo feita é um redimensionamento das imagens (transform.Resize). Isso é feito pois a CNN só consegue lidar com imagens de treinamento do mesmo tamanho. As outras linhas comentadas da parte do código que faz as transformações dos dados podem ser usadas e modificadas, como forma de fazer um aumento de dados e assim, ajudar no treino. Consulte a documentação sobre *transforms* do Pytorch: https://pytorch.org/vision/stable/transforms.html.\n",
        "\n",
        "**ATENÇÃO**\n",
        "Se você escolheu aplicar alguma transformação (por ex: *resize*, *normalize*) com o intuito de pre-processamento, você deve aplicá-la a todos os conjuntos (**train, val, test**). Porém, se você escolheu uma transformação (por ex: *RandomHorizontalFlip*) como forma de aumento de dados, ela deve ser aplicada somente ao conjunto de treinamento (**train**) e, de preferência, de forma aleatória."
      ]
    },
    {
      "cell_type": "code",
      "metadata": {
        "id": "RPaZ-QAVjOPM",
        "colab": {
          "base_uri": "https://localhost:8080/"
        },
        "outputId": "5690d026-b683-4361-d54e-1835f54fc4aa"
      },
      "source": [
        "# Data augmentation and normalization for training\n",
        "\n",
        "data_transforms = {\n",
        "    'train': transforms.Compose([\n",
        "        transforms.Resize((170,170)),\n",
        "        #transforms.RandomHorizontalFlip(),\n",
        "        #transforms.RandomRotation(5),\n",
        "        #transforms.Normalize(0.5, 0.5),\n",
        "        #transforms.Normalize(0, 1),\n",
        "        transforms.ToTensor(),\n",
        "    ]),\n",
        "    'val': transforms.Compose([\n",
        "        transforms.Resize((170,170)),\n",
        "        #transforms.RandomHorizontalFlip(),\n",
        "        #transforms.RandomRotation(5),\n",
        "        #transforms.Normalize(0.5, 0.5),\n",
        "        #transforms.Normalize(0, 1),\n",
        "        transforms.ToTensor()\n",
        "    ]),\n",
        "    'test': transforms.Compose([\n",
        "        transforms.Resize((170,170)),\n",
        "        #transforms.Normalize(0.5, 0.5),\n",
        "        #transforms.Normalize(0, 1),\n",
        "        transforms.ToTensor(),\n",
        "    ]),\n",
        "}\n",
        "\n",
        "##data_dir = 'gdrive/MyDrive/Brain_Tumor_Classification_Dataset/'\n",
        "data_dir = '/content/DataSets/Brain_Tumor/'\n",
        "image_datasets = {x: datasets.ImageFolder(os.path.join(data_dir, x), data_transforms[x]) for x in ['train', 'val', 'test']}\n",
        "\n",
        "#Loading the datasets\n",
        "dataloaders = {x: torch.utils.data.DataLoader(image_datasets[x], batch_size=24, shuffle=True, num_workers=2) for x in ['train', 'val', 'test']}\n",
        "\n",
        "dataset_sizes = {x: len(image_datasets[x]) for x in ['train', 'val', 'test']}\n",
        "class_names = image_datasets['train'].classes\n",
        "\n",
        "device = torch.device(\"cuda:0\" if torch.cuda.is_available() else \"cpu\")\n",
        "device"
      ],
      "execution_count": 64,
      "outputs": [
        {
          "output_type": "execute_result",
          "data": {
            "text/plain": [
              "device(type='cuda', index=0)"
            ]
          },
          "metadata": {
            "tags": []
          },
          "execution_count": 64
        }
      ]
    },
    {
      "cell_type": "markdown",
      "metadata": {
        "id": "IxDgCo4M1zOr"
      },
      "source": [
        "## **Visualizando algumas imagens (one batch)**\n",
        "\n",
        "Muitas vezes treinamos uma rede neural em *batches*, quer dizer, separamos o conjunto de treino em sub-conjuntos menores. Se temos um conjunto de treino de M amostras, podemos ter M *batches* de tamanho 1 até 1 *batch* de tamanho M. Nesse nosso exemplo, escolhemos um tamanho de batch = 24. Para mais detalhes sobre como escolher o tamanho de um *batch*, veja este [link](https://medium.com/mini-distill/effect-of-batch-size-on-training-dynamics-21c14f7a716e) . "
      ]
    },
    {
      "cell_type": "code",
      "metadata": {
        "id": "NMqpJzDW11Hd",
        "colab": {
          "base_uri": "https://localhost:8080/",
          "height": 643
        },
        "outputId": "2ac6e62b-5a0a-4ea4-d580-b99016151282"
      },
      "source": [
        "#visualize\n",
        "def imshow(inp, title=None):\n",
        "    \"\"\"Imshow for Tensor.\"\"\"\n",
        "    inp = inp.numpy().transpose((1, 2, 0))\n",
        "    plt.imshow(inp)\n",
        "    if title is not None:\n",
        "        plt.title(title)\n",
        "    plt.pause(0.001)  # pause a bit so that plots are updated\n",
        "\n",
        "\n",
        "print('Batch of training data')\n",
        "inputs, classes = next(iter(dataloaders['train']))\n",
        "# Make a grid from batch\n",
        "out = torchvision.utils.make_grid(inputs)\n",
        "\n",
        "imshow(out, title=[class_names[x] for x in classes])\n",
        "print('min = ', np.min(inputs.numpy()))\n",
        "print('median = ', np.median(inputs.numpy()))\n",
        "print('mean = ', np.mean(inputs.numpy()))\n",
        "print('max = ', np.max(inputs.numpy()))\n",
        "\n",
        "\n",
        "print('Batch of validation data')\n",
        "inputs, classes = next(iter(dataloaders['val']))\n",
        "# Make a grid from batch\n",
        "out = torchvision.utils.make_grid(inputs)\n",
        "\n",
        "imshow(out, title=[class_names[x] for x in classes])\n",
        "print('min = ', np.min(inputs.numpy()))\n",
        "print('median = ', np.median(inputs.numpy()))\n",
        "print('mean = ', np.mean(inputs.numpy()))\n",
        "print('max = ', np.max(inputs.numpy()))\n",
        "\n",
        "print('Batch of test data')\n",
        "inputs, classes = next(iter(dataloaders['test']))\n",
        "# Make a grid from batch\n",
        "out = torchvision.utils.make_grid(inputs)\n",
        "\n",
        "imshow(out, title=[class_names[x] for x in classes])\n",
        "print('min = ', np.min(inputs.numpy()))\n",
        "print('median = ', np.median(inputs.numpy()))\n",
        "print('mean = ', np.mean(inputs.numpy()))\n",
        "print('max = ', np.max(inputs.numpy()))"
      ],
      "execution_count": 65,
      "outputs": [
        {
          "output_type": "stream",
          "text": [
            "Batch of training data\n"
          ],
          "name": "stdout"
        },
        {
          "output_type": "display_data",
          "data": {
            "image/png": "[encoded data removed]",
            "text/plain": [
              "<Figure size 432x288 with 1 Axes>"
            ]
          },
          "metadata": {
            "tags": [],
            "needs_background": "light"
          }
        },
        {
          "output_type": "stream",
          "text": [
            "min =  0.0\n",
            "median =  0.21176471\n",
            "mean =  0.24004653\n",
            "max =  1.0\n",
            "Batch of validation data\n"
          ],
          "name": "stdout"
        },
        {
          "output_type": "display_data",
          "data": {
            "image/png": "[encoded data removed]",
            "text/plain": [
              "<Figure size 432x288 with 1 Axes>"
            ]
          },
          "metadata": {
            "tags": [],
            "needs_background": "light"
          }
        },
        {
          "output_type": "stream",
          "text": [
            "min =  0.0\n",
            "median =  0.2627451\n",
            "mean =  0.26848122\n",
            "max =  1.0\n",
            "Batch of test data\n"
          ],
          "name": "stdout"
        },
        {
          "output_type": "display_data",
          "data": {
            "image/png": "[encoded data removed]",
            "text/plain": [
              "<Figure size 432x288 with 1 Axes>"
            ]
          },
          "metadata": {
            "tags": [],
            "needs_background": "light"
          }
        },
        {
          "output_type": "stream",
          "text": [
            "min =  0.0\n",
            "median =  0.23137255\n",
            "mean =  0.24494132\n",
            "max =  1.0\n"
          ],
          "name": "stdout"
        }
      ]
    },
    {
      "cell_type": "markdown",
      "metadata": {
        "id": "s3ZQ490a13JT"
      },
      "source": [
        "#**Parte 2 - Definindo o modelo a ser treinado e os parâmetros de treinamento**"
      ]
    },
    {
      "cell_type": "markdown",
      "metadata": {
        "id": "gvvvkILZ8TTv"
      },
      "source": [
        "Antes de começar a treinar uma CNN, é preciso definir o processo de treinamento e os parâmetros iniciais do modelo a ser treinado (arquitetura, learning rate, critério de otimização, etc). Não se preocupe com a primeira parte do código (2.1), de definição do processo de treinamento. Se quiser tentar melhorar a acurácia mexendo no modelo, altere os parâmetros do modelo (2.2). Você verá que neste trecho há várias linhas comentadas, dando ideias de possíveis alterações. Para a documentação sobre parâmetros de treinamento: [link](https://pytorch.org/docs/stable/optim.html)"
      ]
    },
    {
      "cell_type": "markdown",
      "metadata": {
        "id": "hXq1nZA-kncS"
      },
      "source": [
        "###**2.1 - Definindo o processo de treinamento**"
      ]
    },
    {
      "cell_type": "markdown",
      "metadata": {
        "id": "It44_AZ7_rXA"
      },
      "source": [
        "###**2.2 - Definindo os parâmetros do modelo e do treinamento**"
      ]
    },
    {
      "cell_type": "code",
      "metadata": {
        "id": "WjPlPpZk-qCX"
      },
      "source": [
        "# Carrega uma arquitetura já conhecida: ResNet18. O parâmetro \"pretrained\" define o uso ou não de \"Transfer Learning\"\n",
        "model = models.resnet18(pretrained=False)\n",
        "num_ftrs = model.fc.in_features\n",
        "\n",
        "# Define a sáida de tamanho 2 (Duas classes).\n",
        "model.fc = nn.Linear(num_ftrs, 2)\n",
        "\n",
        "model = model.to(device) #usa a GPU, se disponível e a CPU caso contrário\n",
        "\n",
        "# Escolha da Loss Function (critério de otimização da classificação)\n",
        "criterion = nn.CrossEntropyLoss()\n",
        "\n",
        "# Parâmetros de treinamento que podem ser alterados\n",
        "\n",
        "# optimizer_ft = optim.SGD(model.parameters(), lr=0.001, momentum=0.9)\n",
        "# optimizer_ft_randstart = optim.SGD(model.parameters(), lr=0.0008, momentum=0.9)\n",
        "# optimizer_ft_randstart = optim.SGD(model.parameters(), lr=0.0001, momentum=0.9)\n",
        "optimizer_ft_randstart = optim.SGD(model.parameters(), lr=0.00005, momentum=0.9)\n",
        "# optimizer_ft_randstart = optim.SGD(model.parameters(), lr=0.000005, momentum=0.9)\n",
        "\n",
        "# Decay LR by a factor of \"gamma\" every \"step_size\" epochs\n",
        "exp_lr_scheduler = lr_scheduler.StepLR(optimizer_ft_randstart, step_size=100, gamma=0.5)"
      ],
      "execution_count": 66,
      "outputs": []
    },
    {
      "cell_type": "code",
      "metadata": {
        "id": "qLPs0zDDAlot",
        "colab": {
          "base_uri": "https://localhost:8080/"
        },
        "outputId": "7c265afd-8b7a-4694-a145-1a2dfeea1419"
      },
      "source": [
        "# print(model) # mostrando a arquitetura da CNN escolhida\n",
        "\n",
        "summary(model, (3, 170, 170)) # summarize the model "
      ],
      "execution_count": 67,
      "outputs": [
        {
          "output_type": "stream",
          "text": [
            "----------------------------------------------------------------\n",
            "        Layer (type)               Output Shape         Param #\n",
            "================================================================\n",
            "            Conv2d-1           [-1, 64, 85, 85]           9,408\n",
            "       BatchNorm2d-2           [-1, 64, 85, 85]             128\n",
            "              ReLU-3           [-1, 64, 85, 85]               0\n",
            "         MaxPool2d-4           [-1, 64, 43, 43]               0\n",
            "            Conv2d-5           [-1, 64, 43, 43]          36,864\n",
            "       BatchNorm2d-6           [-1, 64, 43, 43]             128\n",
            "              ReLU-7           [-1, 64, 43, 43]               0\n",
            "            Conv2d-8           [-1, 64, 43, 43]          36,864\n",
            "       BatchNorm2d-9           [-1, 64, 43, 43]             128\n",
            "             ReLU-10           [-1, 64, 43, 43]               0\n",
            "       BasicBlock-11           [-1, 64, 43, 43]               0\n",
            "           Conv2d-12           [-1, 64, 43, 43]          36,864\n",
            "      BatchNorm2d-13           [-1, 64, 43, 43]             128\n",
            "             ReLU-14           [-1, 64, 43, 43]               0\n",
            "           Conv2d-15           [-1, 64, 43, 43]          36,864\n",
            "      BatchNorm2d-16           [-1, 64, 43, 43]             128\n",
            "             ReLU-17           [-1, 64, 43, 43]               0\n",
            "       BasicBlock-18           [-1, 64, 43, 43]               0\n",
            "           Conv2d-19          [-1, 128, 22, 22]          73,728\n",
            "      BatchNorm2d-20          [-1, 128, 22, 22]             256\n",
            "             ReLU-21          [-1, 128, 22, 22]               0\n",
            "           Conv2d-22          [-1, 128, 22, 22]         147,456\n",
            "      BatchNorm2d-23          [-1, 128, 22, 22]             256\n",
            "           Conv2d-24          [-1, 128, 22, 22]           8,192\n",
            "      BatchNorm2d-25          [-1, 128, 22, 22]             256\n",
            "             ReLU-26          [-1, 128, 22, 22]               0\n",
            "       BasicBlock-27          [-1, 128, 22, 22]               0\n",
            "           Conv2d-28          [-1, 128, 22, 22]         147,456\n",
            "      BatchNorm2d-29          [-1, 128, 22, 22]             256\n",
            "             ReLU-30          [-1, 128, 22, 22]               0\n",
            "           Conv2d-31          [-1, 128, 22, 22]         147,456\n",
            "      BatchNorm2d-32          [-1, 128, 22, 22]             256\n",
            "             ReLU-33          [-1, 128, 22, 22]               0\n",
            "       BasicBlock-34          [-1, 128, 22, 22]               0\n",
            "           Conv2d-35          [-1, 256, 11, 11]         294,912\n",
            "      BatchNorm2d-36          [-1, 256, 11, 11]             512\n",
            "             ReLU-37          [-1, 256, 11, 11]               0\n",
            "           Conv2d-38          [-1, 256, 11, 11]         589,824\n",
            "      BatchNorm2d-39          [-1, 256, 11, 11]             512\n",
            "           Conv2d-40          [-1, 256, 11, 11]          32,768\n",
            "      BatchNorm2d-41          [-1, 256, 11, 11]             512\n",
            "             ReLU-42          [-1, 256, 11, 11]               0\n",
            "       BasicBlock-43          [-1, 256, 11, 11]               0\n",
            "           Conv2d-44          [-1, 256, 11, 11]         589,824\n",
            "      BatchNorm2d-45          [-1, 256, 11, 11]             512\n",
            "             ReLU-46          [-1, 256, 11, 11]               0\n",
            "           Conv2d-47          [-1, 256, 11, 11]         589,824\n",
            "      BatchNorm2d-48          [-1, 256, 11, 11]             512\n",
            "             ReLU-49          [-1, 256, 11, 11]               0\n",
            "       BasicBlock-50          [-1, 256, 11, 11]               0\n",
            "           Conv2d-51            [-1, 512, 6, 6]       1,179,648\n",
            "      BatchNorm2d-52            [-1, 512, 6, 6]           1,024\n",
            "             ReLU-53            [-1, 512, 6, 6]               0\n",
            "           Conv2d-54            [-1, 512, 6, 6]       2,359,296\n",
            "      BatchNorm2d-55            [-1, 512, 6, 6]           1,024\n",
            "           Conv2d-56            [-1, 512, 6, 6]         131,072\n",
            "      BatchNorm2d-57            [-1, 512, 6, 6]           1,024\n",
            "             ReLU-58            [-1, 512, 6, 6]               0\n",
            "       BasicBlock-59            [-1, 512, 6, 6]               0\n",
            "           Conv2d-60            [-1, 512, 6, 6]       2,359,296\n",
            "      BatchNorm2d-61            [-1, 512, 6, 6]           1,024\n",
            "             ReLU-62            [-1, 512, 6, 6]               0\n",
            "           Conv2d-63            [-1, 512, 6, 6]       2,359,296\n",
            "      BatchNorm2d-64            [-1, 512, 6, 6]           1,024\n",
            "             ReLU-65            [-1, 512, 6, 6]               0\n",
            "       BasicBlock-66            [-1, 512, 6, 6]               0\n",
            "AdaptiveAvgPool2d-67            [-1, 512, 1, 1]               0\n",
            "           Linear-68                    [-1, 2]           1,026\n",
            "================================================================\n",
            "Total params: 11,177,538\n",
            "Trainable params: 11,177,538\n",
            "Non-trainable params: 0\n",
            "----------------------------------------------------------------\n",
            "Input size (MB): 0.33\n",
            "Forward/backward pass size (MB): 37.72\n",
            "Params size (MB): 42.64\n",
            "Estimated Total Size (MB): 80.69\n",
            "----------------------------------------------------------------\n"
          ],
          "name": "stdout"
        }
      ]
    },
    {
      "cell_type": "markdown",
      "metadata": {
        "id": "XsnFLv6RFOkL"
      },
      "source": [
        "#**Parte 3 - Treinando a CNN**"
      ]
    },
    {
      "cell_type": "code",
      "metadata": {
        "id": "obZ9GxjrAtT0",
        "colab": {
          "base_uri": "https://localhost:8080/"
        },
        "outputId": "4c4b394f-395b-4e97-98b1-391ded3d6335"
      },
      "source": [
        "LOSS_train = []\n",
        "LOSS_val = []\n",
        "ACC_train = []\n",
        "ACC_val = []\n",
        "\n",
        "# model = train_model(model, criterion, optimizer_ft_randstart, exp_lr_scheduler, num_epochs=200)\n",
        "r_model = train_model(model, criterion, optimizer_ft_randstart, exp_lr_scheduler, num_epochs=EPOCHS)"
      ],
      "execution_count": 68,
      "outputs": [
        {
          "output_type": "stream",
          "text": [
            "Epoch 0/9\n",
            "----------\n",
            "train Loss: 0.7554 Acc: 0.3920\n",
            "val Loss: 0.7161 Acc: 0.3725\n",
            "\n",
            "Epoch 1/9\n",
            "----------\n",
            "train Loss: 0.7027 Acc: 0.4886\n",
            "val Loss: 0.7055 Acc: 0.3529\n",
            "\n",
            "Epoch 2/9\n",
            "----------\n",
            "train Loss: 0.6602 Acc: 0.6193\n",
            "val Loss: 0.6835 Acc: 0.5882\n",
            "\n",
            "Epoch 3/9\n",
            "----------\n",
            "train Loss: 0.6498 Acc: 0.6136\n",
            "val Loss: 0.6681 Acc: 0.6275\n",
            "\n",
            "Epoch 4/9\n",
            "----------\n",
            "train Loss: 0.6430 Acc: 0.6080\n",
            "val Loss: 0.6647 Acc: 0.6471\n",
            "\n",
            "Epoch 5/9\n",
            "----------\n",
            "train Loss: 0.6306 Acc: 0.6080\n",
            "val Loss: 0.6627 Acc: 0.6471\n",
            "\n",
            "Epoch 6/9\n",
            "----------\n",
            "train Loss: 0.6223 Acc: 0.6193\n",
            "val Loss: 0.6579 Acc: 0.6078\n",
            "\n",
            "Epoch 7/9\n",
            "----------\n",
            "train Loss: 0.6191 Acc: 0.6307\n",
            "val Loss: 0.6472 Acc: 0.5882\n",
            "\n",
            "Epoch 8/9\n",
            "----------\n",
            "train Loss: 0.6120 Acc: 0.6307\n",
            "val Loss: 0.6361 Acc: 0.6275\n",
            "\n",
            "Epoch 9/9\n",
            "----------\n",
            "train Loss: 0.6064 Acc: 0.6705\n",
            "val Loss: 0.6262 Acc: 0.6275\n",
            "\n",
            "Training complete in 0m 12s\n",
            "Best val Acc: 0.647059\n"
          ],
          "name": "stdout"
        }
      ]
    },
    {
      "cell_type": "markdown",
      "metadata": {
        "id": "0HZejyCCFVZL"
      },
      "source": [
        "###**Mostrando as curvas de treinamento**\n",
        "\n",
        "Através das curvas de acurácia e de erro nos conjuntos de treinamento e validação, é possível responder algumas perguntas com relação ao treinamento: houve *overfitting*? o número de épocas não foi suficiente? Quando treinamos uma CNN, é importante observarmos essas curvas e não somente a acurácia final. Há vários textos sobre como avaliar o treinamento de um modelo a partir das curvas, veja um exemplo [aqui](https://machinelearningmastery.com/learning-curves-for-diagnosing-machine-learning-model-performance/)."
      ]
    },
    {
      "cell_type": "code",
      "metadata": {
        "id": "a7tGSAXptTHc",
        "colab": {
          "base_uri": "https://localhost:8080/",
          "height": 538
        },
        "outputId": "bf450236-64bf-4bac-9de8-494d7d0ecc4f"
      },
      "source": [
        "LOSSES = np.array([LOSS_train,LOSS_val,ACC_train,ACC_val]).T\n",
        "         \n",
        "plt.plot(LOSSES[:,:2])\n",
        "plt.axis([0, len(LOSSES), 0, 1])\n",
        "plt.legend(['LOSS_train','LOSS_val'])\n",
        "plt.show()\n",
        "plt.plot(LOSSES[:,2:])\n",
        "plt.axis([0, len(LOSSES), 0, 1])\n",
        "plt.legend(['ACC_train','ACC_val'])\n",
        "plt.show()\n",
        "print('max ACC = ', LOSSES[:,3:].max())"
      ],
      "execution_count": 69,
      "outputs": [
        {
          "output_type": "display_data",
          "data": {
            "image/png": "[encoded data removed]",
            "text/plain": [
              "<Figure size 432x288 with 1 Axes>"
            ]
          },
          "metadata": {
            "tags": [],
            "needs_background": "light"
          }
        },
        {
          "output_type": "display_data",
          "data": {
            "image/png": "[encoded data removed]",
            "text/plain": [
              "<Figure size 432x288 with 1 Axes>"
            ]
          },
          "metadata": {
            "tags": [],
            "needs_background": "light"
          }
        },
        {
          "output_type": "stream",
          "text": [
            "max ACC =  tensor(0.6471, device='cuda:0', dtype=torch.float64)\n"
          ],
          "name": "stdout"
        }
      ]
    },
    {
      "cell_type": "markdown",
      "metadata": {
        "id": "2eJUbsiPEnDc"
      },
      "source": [
        "###**Visualizando as predições no grupo de teste**"
      ]
    },
    {
      "cell_type": "code",
      "metadata": {
        "id": "stEJVGOiFleT",
        "colab": {
          "base_uri": "https://localhost:8080/"
        },
        "outputId": "599ba3f3-94fd-4689-ec08-e96fe71598fc"
      },
      "source": [
        "test_group_len = 26\n",
        "PREDICTED, LABEL = predic_model(r_model, plot_img = False, num_images=test_group_len)\n",
        "\n",
        "test_health_size = len([x for x in range(len(LABEL)) if LABEL[x] == 'health'])\n",
        "test_tumor_size = len([x for x in range(len(LABEL)) if LABEL[x] == 'tumor'])\n",
        "\n",
        "print('\\n Conjunto de Teste \\n')\n",
        "CM_test = confusion_matrix(LABEL, PREDICTED)\n",
        "Sensibilidade = CM_test[1,1]/test_tumor_size # Sensibilidade: é a razão entre as imagens com tumor classificadas corretamente e o total de imagens com tumor (Verdadeiros positivos ÷ tumores)\n",
        "Especificidade = CM_test[0,0]/test_health_size # Especificidade: é a razão entre as imagens sem tumor classificadas corretamente e o total de imagens sem tumor (Verdadeiros negativos ÷ sadios)\n",
        "print('labels = ', LABEL)\n",
        "print('predições = ', PREDICTED)\n",
        "print('matriz de confusão = \\n', CM_test)\n",
        "print('Sensibilidade = ', Sensibilidade)\n",
        "print('Especificidade = ', Especificidade)\n",
        "print('acc = ', len([x for x in range(len(LABEL)) if LABEL[x] == PREDICTED[x]])/test_group_len)\n",
        "\n",
        "string_all.append('Original')\n",
        "sensibilidade_all.append(Sensibilidade)\n",
        "especificidade_all.append(Especificidade)\n",
        "acc_all.append(len([x for x in range(len(LABEL)) if LABEL[x] == PREDICTED[x]])/test_group_len)"
      ],
      "execution_count": 70,
      "outputs": [
        {
          "output_type": "stream",
          "text": [
            "\n",
            " Conjunto de Teste \n",
            "\n",
            "labels =  ['health', 'tumor', 'health', 'tumor', 'health', 'tumor', 'tumor', 'tumor', 'tumor', 'tumor', 'tumor', 'health', 'tumor', 'health', 'tumor', 'tumor', 'tumor', 'health', 'tumor', 'tumor', 'health', 'health', 'health', 'tumor', 'health', 'tumor']\n",
            "predições =  ['tumor', 'tumor', 'tumor', 'tumor', 'tumor', 'tumor', 'tumor', 'tumor', 'tumor', 'tumor', 'tumor', 'tumor', 'tumor', 'tumor', 'tumor', 'tumor', 'tumor', 'tumor', 'tumor', 'tumor', 'tumor', 'tumor', 'tumor', 'tumor', 'tumor', 'tumor']\n",
            "matriz de confusão = \n",
            " [[ 0 10]\n",
            " [ 0 16]]\n",
            "Sensibilidade =  1.0\n",
            "Especificidade =  0.0\n",
            "acc =  0.6153846153846154\n"
          ],
          "name": "stdout"
        }
      ]
    },
    {
      "cell_type": "markdown",
      "metadata": {
        "id": "ZJMdSkx_EFNd"
      },
      "source": [
        "# Modificações"
      ]
    },
    {
      "cell_type": "markdown",
      "metadata": {
        "id": "5UEqiJ34ELjt"
      },
      "source": [
        "## Versão 1"
      ]
    },
    {
      "cell_type": "markdown",
      "metadata": {
        "id": "2Dqgdh5C4yGo"
      },
      "source": [
        "* RandomResizedCrop(input_size)\n",
        "* RandomHorizontalFlip()\n",
        "* ToTensor()\n",
        "* Normalize([0.485, 0.456, 0.406], [0.229, 0.224, 0.225])"
      ]
    },
    {
      "cell_type": "code",
      "metadata": {
        "colab": {
          "base_uri": "https://localhost:8080/"
        },
        "id": "t9rptfWMEDeN",
        "outputId": "9aa73225-16ec-4d31-eb09-bab6cfa49464"
      },
      "source": [
        "# Data augmentation and normalization for training\n",
        "\n",
        "input_size = 224\n",
        "\n",
        "data_transforms = {\n",
        "    'train': transforms.Compose([\n",
        "        transforms.RandomResizedCrop(input_size),\n",
        "        transforms.RandomHorizontalFlip(),\n",
        "        transforms.ToTensor(),\n",
        "        transforms.Normalize([0.485, 0.456, 0.406], [0.229, 0.224, 0.225])\n",
        "    ]),\n",
        "    'val': transforms.Compose([\n",
        "        transforms.Resize(input_size),\n",
        "        transforms.CenterCrop(input_size),\n",
        "        transforms.ToTensor(),\n",
        "        transforms.Normalize([0.485, 0.456, 0.406], [0.229, 0.224, 0.225])\n",
        "    ]),\n",
        "    'test': transforms.Compose([\n",
        "        transforms.Resize(input_size),\n",
        "        transforms.CenterCrop(input_size),\n",
        "        transforms.ToTensor(),\n",
        "        transforms.Normalize([0.485, 0.456, 0.406], [0.229, 0.224, 0.225])\n",
        "    ]),\n",
        "}\n",
        "\n",
        "##data_dir = 'gdrive/MyDrive/Brain_Tumor_Classification_Dataset/'\n",
        "data_dir = '/content/DataSets/Brain_Tumor/'\n",
        "image_datasets = {x: datasets.ImageFolder(os.path.join(data_dir, x), data_transforms[x]) for x in ['train', 'val', 'test']}\n",
        "\n",
        "#Loading the datasets\n",
        "dataloaders = {x: torch.utils.data.DataLoader(image_datasets[x], batch_size=24, shuffle=True, num_workers=2) for x in ['train', 'val', 'test']}\n",
        "\n",
        "dataset_sizes = {x: len(image_datasets[x]) for x in ['train', 'val', 'test']}\n",
        "class_names = image_datasets['train'].classes\n",
        "\n",
        "device = torch.device(\"cuda:0\" if torch.cuda.is_available() else \"cpu\")\n",
        "device"
      ],
      "execution_count": 71,
      "outputs": [
        {
          "output_type": "execute_result",
          "data": {
            "text/plain": [
              "device(type='cuda', index=0)"
            ]
          },
          "metadata": {
            "tags": []
          },
          "execution_count": 71
        }
      ]
    },
    {
      "cell_type": "code",
      "metadata": {
        "id": "-77I8CXSEdEV"
      },
      "source": [
        "# Carrega uma arquitetura já conhecida: ResNet18. O parâmetro \"pretrained\" define o uso ou não de \"Transfer Learning\"\n",
        "model_v1 = models.resnet18(pretrained=False)\n",
        "num_ftrs = model_v1.fc.in_features\n",
        "\n",
        "# Define a sáida de tamanho 2 (Duas classes).\n",
        "model_v1.fc = nn.Linear(num_ftrs, 2)\n",
        "\n",
        "model_v1 = model_v1.to(device) #usa a GPU, se disponível e a CPU caso contrário\n",
        "\n",
        "# Escolha da Loss Function (critério de otimização da classificação)\n",
        "criterion = nn.CrossEntropyLoss()\n",
        "\n",
        "# Parâmetros de treinamento que podem ser alterados\n",
        "\n",
        "# optimizer_ft = optim.SGD(model_v1.parameters(), lr=0.001, momentum=0.9)\n",
        "# optimizer_ft_randstart = optim.SGD(model_v1.parameters(), lr=0.0008, momentum=0.9)\n",
        "# optimizer_ft_randstart = optim.SGD(model_v1.parameters(), lr=0.0001, momentum=0.9)\n",
        "optimizer_ft_randstart = optim.SGD(model_v1.parameters(), lr=0.00005, momentum=0.9)\n",
        "# optimizer_ft_randstart = optim.SGD(model_v1.parameters(), lr=0.000005, momentum=0.9)\n",
        "\n",
        "# Decay LR by a factor of \"gamma\" every \"step_size\" epochs\n",
        "exp_lr_scheduler = lr_scheduler.StepLR(optimizer_ft_randstart, step_size=100, gamma=0.5)"
      ],
      "execution_count": 72,
      "outputs": []
    },
    {
      "cell_type": "code",
      "metadata": {
        "colab": {
          "base_uri": "https://localhost:8080/"
        },
        "id": "cH0Cr5f-Egn6",
        "outputId": "5dc20ff9-c0a3-4865-8a52-1d0b98b3d00a"
      },
      "source": [
        "LOSS_train = []\n",
        "LOSS_val = []\n",
        "ACC_train = []\n",
        "ACC_val = []\n",
        "\n",
        "r_model_v1 = train_model(model_v1, criterion, optimizer_ft_randstart, exp_lr_scheduler, num_epochs=EPOCHS)"
      ],
      "execution_count": 73,
      "outputs": [
        {
          "output_type": "stream",
          "text": [
            "Epoch 0/9\n",
            "----------\n",
            "train Loss: 0.7390 Acc: 0.3864\n",
            "val Loss: 0.6994 Acc: 0.4902\n",
            "\n",
            "Epoch 1/9\n",
            "----------\n",
            "train Loss: 0.7097 Acc: 0.5000\n",
            "val Loss: 0.6929 Acc: 0.5686\n",
            "\n",
            "Epoch 2/9\n",
            "----------\n",
            "train Loss: 0.6839 Acc: 0.5966\n",
            "val Loss: 0.6814 Acc: 0.6078\n",
            "\n",
            "Epoch 3/9\n",
            "----------\n",
            "train Loss: 0.6595 Acc: 0.6080\n",
            "val Loss: 0.6700 Acc: 0.6275\n",
            "\n",
            "Epoch 4/9\n",
            "----------\n",
            "train Loss: 0.6648 Acc: 0.6080\n",
            "val Loss: 0.6717 Acc: 0.6275\n",
            "\n",
            "Epoch 5/9\n",
            "----------\n",
            "train Loss: 0.6544 Acc: 0.6080\n",
            "val Loss: 0.6715 Acc: 0.6275\n",
            "\n",
            "Epoch 6/9\n",
            "----------\n",
            "train Loss: 0.6589 Acc: 0.6080\n",
            "val Loss: 0.6749 Acc: 0.6275\n",
            "\n",
            "Epoch 7/9\n",
            "----------\n",
            "train Loss: 0.6469 Acc: 0.6080\n",
            "val Loss: 0.6821 Acc: 0.6078\n",
            "\n",
            "Epoch 8/9\n",
            "----------\n",
            "train Loss: 0.6538 Acc: 0.6193\n",
            "val Loss: 0.6796 Acc: 0.6471\n",
            "\n",
            "Epoch 9/9\n",
            "----------\n",
            "train Loss: 0.6380 Acc: 0.6250\n",
            "val Loss: 0.6792 Acc: 0.6078\n",
            "\n",
            "Training complete in 0m 15s\n",
            "Best val Acc: 0.647059\n"
          ],
          "name": "stdout"
        }
      ]
    },
    {
      "cell_type": "code",
      "metadata": {
        "colab": {
          "base_uri": "https://localhost:8080/",
          "height": 538
        },
        "id": "ixlOjCC1Ekg1",
        "outputId": "d73538f3-b583-481e-cdff-dee13213d8d4"
      },
      "source": [
        "LOSSES = np.array([LOSS_train,LOSS_val,ACC_train,ACC_val]).T\n",
        "         \n",
        "plt.plot(LOSSES[:,:2])\n",
        "plt.axis([0, len(LOSSES), 0, 1])\n",
        "plt.legend(['LOSS_train','LOSS_val'])\n",
        "plt.show()\n",
        "plt.plot(LOSSES[:,2:])\n",
        "plt.axis([0, len(LOSSES), 0, 1])\n",
        "plt.legend(['ACC_train','ACC_val'])\n",
        "plt.show()\n",
        "print('max ACC = ', LOSSES[:,3:].max())"
      ],
      "execution_count": 74,
      "outputs": [
        {
          "output_type": "display_data",
          "data": {
            "image/png": "[encoded data removed]",
            "text/plain": [
              "<Figure size 432x288 with 1 Axes>"
            ]
          },
          "metadata": {
            "tags": [],
            "needs_background": "light"
          }
        },
        {
          "output_type": "display_data",
          "data": {
            "image/png": "[encoded data removed]",
            "text/plain": [
              "<Figure size 432x288 with 1 Axes>"
            ]
          },
          "metadata": {
            "tags": [],
            "needs_background": "light"
          }
        },
        {
          "output_type": "stream",
          "text": [
            "max ACC =  tensor(0.6471, device='cuda:0', dtype=torch.float64)\n"
          ],
          "name": "stdout"
        }
      ]
    },
    {
      "cell_type": "code",
      "metadata": {
        "colab": {
          "base_uri": "https://localhost:8080/"
        },
        "id": "h-TTNiZHEobf",
        "outputId": "56a4e6c4-4474-4bbb-adf7-8081b0ae2bb0"
      },
      "source": [
        "test_group_len = 26\n",
        "PREDICTED, LABEL = predic_model(r_model_v1, plot_img = False, num_images=test_group_len)\n",
        "\n",
        "test_health_size = len([x for x in range(len(LABEL)) if LABEL[x] == 'health'])\n",
        "test_tumor_size = len([x for x in range(len(LABEL)) if LABEL[x] == 'tumor'])\n",
        "\n",
        "print('\\n Conjunto de Teste \\n')\n",
        "CM_test = confusion_matrix(LABEL, PREDICTED)\n",
        "Sensibilidade = CM_test[1,1]/test_tumor_size # Sensibilidade: é a razão entre as imagens com tumor classificadas corretamente e o total de imagens com tumor (Verdadeiros positivos ÷ tumores)\n",
        "Especificidade = CM_test[0,0]/test_health_size # Especificidade: é a razão entre as imagens sem tumor classificadas corretamente e o total de imagens sem tumor (Verdadeiros negativos ÷ sadios)\n",
        "print('labels = ', LABEL)\n",
        "print('predições = ', PREDICTED)\n",
        "print('matriz de confusão = \\n', CM_test)\n",
        "print('Sensibilidade = ', Sensibilidade)\n",
        "print('Especificidade = ', Especificidade)\n",
        "print('acc = ', len([x for x in range(len(LABEL)) if LABEL[x] == PREDICTED[x]])/test_group_len)\n",
        "\n",
        "string_all.append('Versão 1')\n",
        "sensibilidade_all.append(Sensibilidade)\n",
        "especificidade_all.append(Especificidade)\n",
        "acc_all.append(len([x for x in range(len(LABEL)) if LABEL[x] == PREDICTED[x]])/test_group_len)"
      ],
      "execution_count": 75,
      "outputs": [
        {
          "output_type": "stream",
          "text": [
            "\n",
            " Conjunto de Teste \n",
            "\n",
            "labels =  ['tumor', 'tumor', 'tumor', 'health', 'health', 'tumor', 'tumor', 'tumor', 'health', 'tumor', 'tumor', 'health', 'tumor', 'health', 'health', 'tumor', 'health', 'health', 'health', 'tumor', 'tumor', 'tumor', 'tumor', 'tumor', 'tumor', 'health']\n",
            "predições =  ['tumor', 'tumor', 'tumor', 'tumor', 'health', 'tumor', 'tumor', 'tumor', 'tumor', 'tumor', 'tumor', 'tumor', 'tumor', 'health', 'tumor', 'tumor', 'tumor', 'tumor', 'health', 'tumor', 'tumor', 'tumor', 'tumor', 'tumor', 'tumor', 'tumor']\n",
            "matriz de confusão = \n",
            " [[ 3  7]\n",
            " [ 0 16]]\n",
            "Sensibilidade =  1.0\n",
            "Especificidade =  0.3\n",
            "acc =  0.7307692307692307\n"
          ],
          "name": "stdout"
        }
      ]
    },
    {
      "cell_type": "markdown",
      "metadata": {
        "id": "p1OjBFVxrK8X"
      },
      "source": [
        "## Versão 2: norma de 0.5 até 0.5"
      ]
    },
    {
      "cell_type": "code",
      "metadata": {
        "id": "jOpxZuLNK4jw",
        "colab": {
          "base_uri": "https://localhost:8080/"
        },
        "outputId": "4f508dc2-6a8b-4e23-a31e-9e25db9b6646"
      },
      "source": [
        "# Data augmentation and normalization for training\n",
        "\n",
        "input_size = 224\n",
        "\n",
        "data_transforms = {\n",
        "    'train': transforms.Compose([\n",
        "        transforms.RandomResizedCrop(input_size),\n",
        "        transforms.RandomHorizontalFlip(),\n",
        "        transforms.ToTensor(),\n",
        "        transforms.Normalize(0.5, 0.5)\n",
        "    ]),\n",
        "    'val': transforms.Compose([\n",
        "        transforms.Resize(input_size),\n",
        "        transforms.CenterCrop(input_size),\n",
        "        transforms.ToTensor(),\n",
        "        transforms.Normalize(0.5, 0.5)\n",
        "    ]),\n",
        "    'test': transforms.Compose([\n",
        "        transforms.Resize(input_size),\n",
        "        transforms.CenterCrop(input_size),\n",
        "        transforms.ToTensor(),\n",
        "        transforms.Normalize(0.5, 0.5)\n",
        "    ]),\n",
        "}\n",
        "\n",
        "##data_dir = 'gdrive/MyDrive/Brain_Tumor_Classification_Dataset/'\n",
        "data_dir = '/content/DataSets/Brain_Tumor/'\n",
        "image_datasets = {x: datasets.ImageFolder(os.path.join(data_dir, x), data_transforms[x]) for x in ['train', 'val', 'test']}\n",
        "\n",
        "#Loading the datasets\n",
        "dataloaders = {x: torch.utils.data.DataLoader(image_datasets[x], batch_size=24, shuffle=True, num_workers=2) for x in ['train', 'val', 'test']}\n",
        "\n",
        "dataset_sizes = {x: len(image_datasets[x]) for x in ['train', 'val', 'test']}\n",
        "class_names = image_datasets['train'].classes\n",
        "\n",
        "device = torch.device(\"cuda:0\" if torch.cuda.is_available() else \"cpu\")\n",
        "device"
      ],
      "execution_count": 76,
      "outputs": [
        {
          "output_type": "execute_result",
          "data": {
            "text/plain": [
              "device(type='cuda', index=0)"
            ]
          },
          "metadata": {
            "tags": []
          },
          "execution_count": 76
        }
      ]
    },
    {
      "cell_type": "code",
      "metadata": {
        "id": "nM4ge2vpLGaw"
      },
      "source": [
        "# Carrega uma arquitetura já conhecida: ResNet18. O parâmetro \"pretrained\" define o uso ou não de \"Transfer Learning\"\n",
        "model_v2 = models.resnet18(pretrained=False)\n",
        "num_ftrs = model_v2.fc.in_features\n",
        "\n",
        "# Define a sáida de tamanho 2 (Duas classes).\n",
        "model_v2.fc = nn.Linear(num_ftrs, 2)\n",
        "\n",
        "model_v2 = model_v2.to(device) #usa a GPU, se disponível e a CPU caso contrário\n",
        "\n",
        "# Escolha da Loss Function (critério de otimização da classificação)\n",
        "criterion = nn.CrossEntropyLoss()\n",
        "\n",
        "# Parâmetros de treinamento que podem ser alterados\n",
        "\n",
        "# optimizer_ft = optim.SGD(model_v2.parameters(), lr=0.001, momentum=0.9)\n",
        "# optimizer_ft_randstart = optim.SGD(model_v2.parameters(), lr=0.0008, momentum=0.9)\n",
        "# optimizer_ft_randstart = optim.SGD(model_v2.parameters(), lr=0.0001, momentum=0.9)\n",
        "optimizer_ft_randstart = optim.SGD(model_v2.parameters(), lr=0.00005, momentum=0.9)\n",
        "# optimizer_ft_randstart = optim.SGD(model_v2.parameters(), lr=0.000005, momentum=0.9)\n",
        "\n",
        "# Decay LR by a factor of \"gamma\" every \"step_size\" epochs\n",
        "exp_lr_scheduler = lr_scheduler.StepLR(optimizer_ft_randstart, step_size=100, gamma=0.5)"
      ],
      "execution_count": 77,
      "outputs": []
    },
    {
      "cell_type": "code",
      "metadata": {
        "colab": {
          "base_uri": "https://localhost:8080/"
        },
        "id": "F8m9rDDyLgk0",
        "outputId": "f5472d28-6c0d-47f4-f443-a062a02e9433"
      },
      "source": [
        "LOSS_train = []\n",
        "LOSS_val = []\n",
        "ACC_train = []\n",
        "ACC_val = []\n",
        "\n",
        "# Train and evaluate\n",
        "r_model_v2 = train_model(model_v2, criterion, optimizer_ft_randstart, exp_lr_scheduler, num_epochs=EPOCHS)"
      ],
      "execution_count": 78,
      "outputs": [
        {
          "output_type": "stream",
          "text": [
            "Epoch 0/9\n",
            "----------\n",
            "train Loss: 0.7087 Acc: 0.6080\n",
            "val Loss: 0.6668 Acc: 0.6275\n",
            "\n",
            "Epoch 1/9\n",
            "----------\n",
            "train Loss: 0.6704 Acc: 0.6080\n",
            "val Loss: 0.6837 Acc: 0.6275\n",
            "\n",
            "Epoch 2/9\n",
            "----------\n",
            "train Loss: 0.6646 Acc: 0.6136\n",
            "val Loss: 0.6768 Acc: 0.6275\n",
            "\n",
            "Epoch 3/9\n",
            "----------\n",
            "train Loss: 0.6690 Acc: 0.5966\n",
            "val Loss: 0.6637 Acc: 0.6275\n",
            "\n",
            "Epoch 4/9\n",
            "----------\n",
            "train Loss: 0.6466 Acc: 0.5909\n",
            "val Loss: 0.6586 Acc: 0.6275\n",
            "\n",
            "Epoch 5/9\n",
            "----------\n",
            "train Loss: 0.6624 Acc: 0.5909\n",
            "val Loss: 0.6614 Acc: 0.6275\n",
            "\n",
            "Epoch 6/9\n",
            "----------\n",
            "train Loss: 0.6390 Acc: 0.6193\n",
            "val Loss: 0.6599 Acc: 0.6863\n",
            "\n",
            "Epoch 7/9\n",
            "----------\n",
            "train Loss: 0.6452 Acc: 0.6477\n",
            "val Loss: 0.6586 Acc: 0.6863\n",
            "\n",
            "Epoch 8/9\n",
            "----------\n",
            "train Loss: 0.6543 Acc: 0.6193\n",
            "val Loss: 0.6610 Acc: 0.7059\n",
            "\n",
            "Epoch 9/9\n",
            "----------\n",
            "train Loss: 0.6423 Acc: 0.6307\n",
            "val Loss: 0.6628 Acc: 0.7059\n",
            "\n",
            "Training complete in 0m 15s\n",
            "Best val Acc: 0.705882\n"
          ],
          "name": "stdout"
        }
      ]
    },
    {
      "cell_type": "code",
      "metadata": {
        "colab": {
          "base_uri": "https://localhost:8080/",
          "height": 538
        },
        "id": "r87JvG0wBtSt",
        "outputId": "06d06ce5-966e-4246-f5f8-a7968d9761d1"
      },
      "source": [
        "LOSSES = np.array([LOSS_train,LOSS_val,ACC_train,ACC_val]).T\n",
        "         \n",
        "plt.plot(LOSSES[:,:2])\n",
        "plt.axis([0, len(LOSSES), 0, 1])\n",
        "plt.legend(['LOSS_train','LOSS_val'])\n",
        "plt.show()\n",
        "plt.plot(LOSSES[:,2:])\n",
        "plt.axis([0, len(LOSSES), 0, 1])\n",
        "plt.legend(['ACC_train','ACC_val'])\n",
        "plt.show()\n",
        "print('max ACC = ', LOSSES[:,3:].max())"
      ],
      "execution_count": 79,
      "outputs": [
        {
          "output_type": "display_data",
          "data": {
            "image/png": "[encoded data removed]",
            "text/plain": [
              "<Figure size 432x288 with 1 Axes>"
            ]
          },
          "metadata": {
            "tags": [],
            "needs_background": "light"
          }
        },
        {
          "output_type": "display_data",
          "data": {
            "image/png": "[encoded data removed]",
            "text/plain": [
              "<Figure size 432x288 with 1 Axes>"
            ]
          },
          "metadata": {
            "tags": [],
            "needs_background": "light"
          }
        },
        {
          "output_type": "stream",
          "text": [
            "max ACC =  tensor(0.7059, device='cuda:0', dtype=torch.float64)\n"
          ],
          "name": "stdout"
        }
      ]
    },
    {
      "cell_type": "code",
      "metadata": {
        "id": "ekfpmIulnEiB",
        "colab": {
          "base_uri": "https://localhost:8080/"
        },
        "outputId": "f31f6300-9441-4cc8-8974-e931ac336fb1"
      },
      "source": [
        "test_group_len = 26\n",
        "PREDICTED, LABEL = predic_model(r_model_v2, plot_img = False, num_images=test_group_len)\n",
        "\n",
        "test_health_size = len([x for x in range(len(LABEL)) if LABEL[x] == 'health'])\n",
        "test_tumor_size = len([x for x in range(len(LABEL)) if LABEL[x] == 'tumor'])\n",
        "\n",
        "print('\\n Conjunto de Teste \\n')\n",
        "CM_test = confusion_matrix(LABEL, PREDICTED)\n",
        "Sensibilidade = CM_test[1,1]/test_tumor_size # Sensibilidade: é a razão entre as imagens com tumor classificadas corretamente e o total de imagens com tumor (Verdadeiros positivos ÷ tumores)\n",
        "Especificidade = CM_test[0,0]/test_health_size # Especificidade: é a razão entre as imagens sem tumor classificadas corretamente e o total de imagens sem tumor (Verdadeiros negativos ÷ sadios)\n",
        "print('labels = ', LABEL)\n",
        "print('predições = ', PREDICTED)\n",
        "print('matriz de confusão = \\n', CM_test)\n",
        "print('Sensibilidade = ', Sensibilidade)\n",
        "print('Especificidade = ', Especificidade)\n",
        "print('acc = ', len([x for x in range(len(LABEL)) if LABEL[x] == PREDICTED[x]])/test_group_len)\n",
        "\n",
        "string_all.append('Versão 2')\n",
        "sensibilidade_all.append(Sensibilidade)\n",
        "especificidade_all.append(Especificidade)\n",
        "acc_all.append(len([x for x in range(len(LABEL)) if LABEL[x] == PREDICTED[x]])/test_group_len)"
      ],
      "execution_count": 80,
      "outputs": [
        {
          "output_type": "stream",
          "text": [
            "\n",
            " Conjunto de Teste \n",
            "\n",
            "labels =  ['health', 'tumor', 'tumor', 'health', 'tumor', 'tumor', 'health', 'tumor', 'health', 'health', 'health', 'tumor', 'tumor', 'health', 'tumor', 'tumor', 'health', 'health', 'tumor', 'tumor', 'health', 'tumor', 'tumor', 'tumor', 'tumor', 'tumor']\n",
            "predições =  ['health', 'tumor', 'tumor', 'tumor', 'tumor', 'tumor', 'tumor', 'tumor', 'tumor', 'tumor', 'tumor', 'tumor', 'tumor', 'tumor', 'tumor', 'tumor', 'tumor', 'health', 'tumor', 'tumor', 'tumor', 'tumor', 'tumor', 'tumor', 'tumor', 'tumor']\n",
            "matriz de confusão = \n",
            " [[ 2  8]\n",
            " [ 0 16]]\n",
            "Sensibilidade =  1.0\n",
            "Especificidade =  0.2\n",
            "acc =  0.6923076923076923\n"
          ],
          "name": "stdout"
        }
      ]
    },
    {
      "cell_type": "markdown",
      "metadata": {
        "id": "W8nvOUAW_8Pw"
      },
      "source": [
        "## Versão 3: norma de 0 até 1"
      ]
    },
    {
      "cell_type": "code",
      "metadata": {
        "colab": {
          "base_uri": "https://localhost:8080/"
        },
        "id": "C2-gio0s_7XH",
        "outputId": "31565ee7-a603-4e54-a6bf-3c8b36e280ed"
      },
      "source": [
        "# Data augmentation and normalization for training\n",
        "\n",
        "input_size = 224\n",
        "\n",
        "data_transforms = {\n",
        "    'train': transforms.Compose([\n",
        "        transforms.RandomResizedCrop(input_size),\n",
        "        transforms.RandomHorizontalFlip(),\n",
        "        transforms.ToTensor(),\n",
        "        transforms.Normalize(0, 1)\n",
        "    ]),\n",
        "    'val': transforms.Compose([\n",
        "        transforms.Resize(input_size),\n",
        "        transforms.CenterCrop(input_size),\n",
        "        transforms.ToTensor(),\n",
        "        transforms.Normalize(0, 1)\n",
        "    ]),\n",
        "    'test': transforms.Compose([\n",
        "        transforms.Resize(input_size),\n",
        "        transforms.CenterCrop(input_size),\n",
        "        transforms.ToTensor(),\n",
        "        transforms.Normalize(0, 1)\n",
        "    ]),\n",
        "}\n",
        "\n",
        "##data_dir = 'gdrive/MyDrive/Brain_Tumor_Classification_Dataset/'\n",
        "data_dir = '/content/DataSets/Brain_Tumor/'\n",
        "image_datasets = {x: datasets.ImageFolder(os.path.join(data_dir, x), data_transforms[x]) for x in ['train', 'val', 'test']}\n",
        "\n",
        "#Loading the datasets\n",
        "dataloaders = {x: torch.utils.data.DataLoader(image_datasets[x], batch_size=24, shuffle=True, num_workers=2) for x in ['train', 'val', 'test']}\n",
        "\n",
        "dataset_sizes = {x: len(image_datasets[x]) for x in ['train', 'val', 'test']}\n",
        "class_names = image_datasets['train'].classes\n",
        "\n",
        "device = torch.device(\"cuda:0\" if torch.cuda.is_available() else \"cpu\")\n",
        "device"
      ],
      "execution_count": 81,
      "outputs": [
        {
          "output_type": "execute_result",
          "data": {
            "text/plain": [
              "device(type='cuda', index=0)"
            ]
          },
          "metadata": {
            "tags": []
          },
          "execution_count": 81
        }
      ]
    },
    {
      "cell_type": "code",
      "metadata": {
        "id": "vuUYFrK2_7q0"
      },
      "source": [
        "# Carrega uma arquitetura já conhecida: ResNet18. O parâmetro \"pretrained\" define o uso ou não de \"Transfer Learning\"\n",
        "model_v3 = models.resnet18(pretrained=False)\n",
        "num_ftrs = model_v3.fc.in_features\n",
        "\n",
        "# Define a sáida de tamanho 2 (Duas classes).\n",
        "model.fc = nn.Linear(num_ftrs, 2)\n",
        "\n",
        "model = model_v3.to(device) #usa a GPU, se disponível e a CPU caso contrário\n",
        "\n",
        "# Escolha da Loss Function (critério de otimização da classificação)\n",
        "criterion = nn.CrossEntropyLoss()\n",
        "\n",
        "# Parâmetros de treinamento que podem ser alterados\n",
        "\n",
        "# optimizer_ft = optim.SGD(model_v3.parameters(), lr=0.001, momentum=0.9)\n",
        "# optimizer_ft_randstart = optim.SGD(model_v3.parameters(), lr=0.0008, momentum=0.9)\n",
        "# optimizer_ft_randstart = optim.SGD(model_v3.parameters(), lr=0.0001, momentum=0.9)\n",
        "optimizer_ft_randstart = optim.SGD(model_v3.parameters(), lr=0.00005, momentum=0.9)\n",
        "# optimizer_ft_randstart = optim.SGD(model_v3.parameters(), lr=0.000005, momentum=0.9)\n",
        "\n",
        "# Decay LR by a factor of \"gamma\" every \"step_size\" epochs\n",
        "exp_lr_scheduler = lr_scheduler.StepLR(optimizer_ft_randstart, step_size=100, gamma=0.5)"
      ],
      "execution_count": 82,
      "outputs": []
    },
    {
      "cell_type": "code",
      "metadata": {
        "colab": {
          "base_uri": "https://localhost:8080/"
        },
        "id": "-cwtyXHI_7xW",
        "outputId": "de505a72-553a-4977-ca5e-268fd30ff4c6"
      },
      "source": [
        "LOSS_train = []\n",
        "LOSS_val = []\n",
        "ACC_train = []\n",
        "ACC_val = []\n",
        "\n",
        "r_model_v3 = train_model(model_v3, criterion, optimizer_ft_randstart, exp_lr_scheduler, num_epochs=EPOCHS)"
      ],
      "execution_count": 83,
      "outputs": [
        {
          "output_type": "stream",
          "text": [
            "Epoch 0/9\n",
            "----------\n",
            "train Loss: 7.2150 Acc: 0.0000\n",
            "val Loss: 6.9347 Acc: 0.0000\n",
            "\n",
            "Epoch 1/9\n",
            "----------\n",
            "train Loss: 6.8634 Acc: 0.0000\n",
            "val Loss: 6.7037 Acc: 0.0000\n",
            "\n",
            "Epoch 2/9\n",
            "----------\n",
            "train Loss: 6.3420 Acc: 0.0000\n",
            "val Loss: 6.3324 Acc: 0.0392\n",
            "\n",
            "Epoch 3/9\n",
            "----------\n",
            "train Loss: 5.7449 Acc: 0.3636\n",
            "val Loss: 5.8782 Acc: 0.6275\n",
            "\n",
            "Epoch 4/9\n",
            "----------\n",
            "train Loss: 5.1175 Acc: 0.6023\n",
            "val Loss: 5.3796 Acc: 0.6275\n",
            "\n",
            "Epoch 5/9\n",
            "----------\n",
            "train Loss: 4.4671 Acc: 0.6080\n",
            "val Loss: 4.8470 Acc: 0.6275\n",
            "\n",
            "Epoch 6/9\n",
            "----------\n",
            "train Loss: 3.8632 Acc: 0.6080\n",
            "val Loss: 4.2071 Acc: 0.6275\n",
            "\n",
            "Epoch 7/9\n",
            "----------\n",
            "train Loss: 3.3307 Acc: 0.6080\n",
            "val Loss: 3.4524 Acc: 0.6275\n",
            "\n",
            "Epoch 8/9\n",
            "----------\n",
            "train Loss: 2.7977 Acc: 0.6080\n",
            "val Loss: 2.6737 Acc: 0.6275\n",
            "\n",
            "Epoch 9/9\n",
            "----------\n",
            "train Loss: 2.3843 Acc: 0.6080\n",
            "val Loss: 2.0635 Acc: 0.6275\n",
            "\n",
            "Training complete in 0m 15s\n",
            "Best val Acc: 0.627451\n"
          ],
          "name": "stdout"
        }
      ]
    },
    {
      "cell_type": "code",
      "metadata": {
        "colab": {
          "base_uri": "https://localhost:8080/",
          "height": 538
        },
        "id": "EgPISL5ABvLu",
        "outputId": "1934d3d2-2726-49fa-c8c7-c1fe217b2a3e"
      },
      "source": [
        "LOSSES = np.array([LOSS_train,LOSS_val,ACC_train,ACC_val]).T\n",
        "         \n",
        "plt.plot(LOSSES[:,:2])\n",
        "plt.axis([0, len(LOSSES), 0, 1])\n",
        "plt.legend(['LOSS_train','LOSS_val'])\n",
        "plt.show()\n",
        "plt.plot(LOSSES[:,2:])\n",
        "plt.axis([0, len(LOSSES), 0, 1])\n",
        "plt.legend(['ACC_train','ACC_val'])\n",
        "plt.show()\n",
        "print('max ACC = ', LOSSES[:,3:].max())"
      ],
      "execution_count": 84,
      "outputs": [
        {
          "output_type": "display_data",
          "data": {
            "image/png": "[encoded data removed]",
            "text/plain": [
              "<Figure size 432x288 with 1 Axes>"
            ]
          },
          "metadata": {
            "tags": [],
            "needs_background": "light"
          }
        },
        {
          "output_type": "display_data",
          "data": {
            "image/png": "[encoded data removed]",
            "text/plain": [
              "<Figure size 432x288 with 1 Axes>"
            ]
          },
          "metadata": {
            "tags": [],
            "needs_background": "light"
          }
        },
        {
          "output_type": "stream",
          "text": [
            "max ACC =  tensor(0.6275, device='cuda:0', dtype=torch.float64)\n"
          ],
          "name": "stdout"
        }
      ]
    },
    {
      "cell_type": "code",
      "metadata": {
        "colab": {
          "base_uri": "https://localhost:8080/"
        },
        "id": "kVEbXx0w_6U_",
        "outputId": "5f7ee545-ab0f-46f0-c33a-2e9820666147"
      },
      "source": [
        "test_group_len = 26\n",
        "PREDICTED, LABEL = predic_model(r_model_v3, plot_img = False, num_images=test_group_len)\n",
        "\n",
        "test_health_size = len([x for x in range(len(LABEL)) if LABEL[x] == 'health'])\n",
        "test_tumor_size = len([x for x in range(len(LABEL)) if LABEL[x] == 'tumor'])\n",
        "\n",
        "print('\\n Conjunto de Teste \\n')\n",
        "CM_test = confusion_matrix(LABEL, PREDICTED)\n",
        "Sensibilidade = CM_test[1,1]/test_tumor_size # Sensibilidade: é a razão entre as imagens com tumor classificadas corretamente e o total de imagens com tumor (Verdadeiros positivos ÷ tumores)\n",
        "Especificidade = CM_test[0,0]/test_health_size # Especificidade: é a razão entre as imagens sem tumor classificadas corretamente e o total de imagens sem tumor (Verdadeiros negativos ÷ sadios)\n",
        "print('labels = ', LABEL)\n",
        "print('predições = ', PREDICTED)\n",
        "print('matriz de confusão = \\n', CM_test)\n",
        "print('Sensibilidade = ', Sensibilidade)\n",
        "print('Especificidade = ', Especificidade)\n",
        "print('acc = ', len([x for x in range(len(LABEL)) if LABEL[x] == PREDICTED[x]])/test_group_len)\n",
        "\n",
        "string_all.append('Versão 3')\n",
        "sensibilidade_all.append(Sensibilidade)\n",
        "especificidade_all.append(Especificidade)\n",
        "acc_all.append(len([x for x in range(len(LABEL)) if LABEL[x] == PREDICTED[x]])/test_group_len)"
      ],
      "execution_count": 85,
      "outputs": [
        {
          "output_type": "stream",
          "text": [
            "\n",
            " Conjunto de Teste \n",
            "\n",
            "labels =  ['tumor', 'health', 'tumor', 'tumor', 'tumor', 'health', 'tumor', 'tumor', 'health', 'tumor', 'health', 'health', 'tumor', 'tumor', 'health', 'health', 'health', 'health', 'health', 'tumor', 'tumor', 'tumor', 'tumor', 'tumor', 'tumor', 'tumor']\n",
            "predições =  ['tumor', 'tumor', 'tumor', 'tumor', 'tumor', 'tumor', 'tumor', 'tumor', 'tumor', 'tumor', 'tumor', 'tumor', 'tumor', 'tumor', 'tumor', 'tumor', 'tumor', 'tumor', 'tumor', 'tumor', 'tumor', 'tumor', 'tumor', 'tumor', 'tumor', 'tumor']\n",
            "matriz de confusão = \n",
            " [[ 0 10]\n",
            " [ 0 16]]\n",
            "Sensibilidade =  1.0\n",
            "Especificidade =  0.0\n",
            "acc =  0.6153846153846154\n"
          ],
          "name": "stdout"
        }
      ]
    },
    {
      "cell_type": "markdown",
      "metadata": {
        "id": "cujcqiENNPHF"
      },
      "source": [
        "## Versão 4\n",
        "\n",
        "Modelo que varia entre 5 otimizadores."
      ]
    },
    {
      "cell_type": "code",
      "metadata": {
        "colab": {
          "base_uri": "https://localhost:8080/"
        },
        "id": "s8prXI62NLYt",
        "outputId": "b883487f-abea-43b2-ce54-15169f0bc287"
      },
      "source": [
        "# Data augmentation and normalization for training\n",
        "\n",
        "input_size = 224\n",
        "\n",
        "data_transforms = {\n",
        "    'train': transforms.Compose([\n",
        "        transforms.RandomResizedCrop(input_size),\n",
        "        transforms.RandomHorizontalFlip(),\n",
        "        transforms.ToTensor(),\n",
        "        transforms.Normalize([0.485, 0.456, 0.406], [0.229, 0.224, 0.225])\n",
        "    ]),\n",
        "    'val': transforms.Compose([\n",
        "        transforms.Resize(input_size),\n",
        "        transforms.CenterCrop(input_size),\n",
        "        transforms.ToTensor(),\n",
        "        transforms.Normalize([0.485, 0.456, 0.406], [0.229, 0.224, 0.225])\n",
        "    ]),\n",
        "    'test': transforms.Compose([\n",
        "        transforms.Resize(input_size),\n",
        "        transforms.CenterCrop(input_size),\n",
        "        transforms.ToTensor(),\n",
        "        transforms.Normalize([0.485, 0.456, 0.406], [0.229, 0.224, 0.225])\n",
        "    ]),\n",
        "}\n",
        "\n",
        "##data_dir = 'gdrive/MyDrive/Brain_Tumor_Classification_Dataset/'\n",
        "data_dir = '/content/DataSets/Brain_Tumor/'\n",
        "image_datasets = {x: datasets.ImageFolder(os.path.join(data_dir, x), data_transforms[x]) for x in ['train', 'val', 'test']}\n",
        "\n",
        "#Loading the datasets\n",
        "dataloaders = {x: torch.utils.data.DataLoader(image_datasets[x], batch_size=24, shuffle=True, num_workers=2) for x in ['train', 'val', 'test']}\n",
        "\n",
        "dataset_sizes = {x: len(image_datasets[x]) for x in ['train', 'val', 'test']}\n",
        "class_names = image_datasets['train'].classes\n",
        "\n",
        "device = torch.device(\"cuda:0\" if torch.cuda.is_available() else \"cpu\")\n",
        "device"
      ],
      "execution_count": 86,
      "outputs": [
        {
          "output_type": "execute_result",
          "data": {
            "text/plain": [
              "device(type='cuda', index=0)"
            ]
          },
          "metadata": {
            "tags": []
          },
          "execution_count": 86
        }
      ]
    },
    {
      "cell_type": "code",
      "metadata": {
        "id": "4r9n_HgaLMVr"
      },
      "source": [
        "# Carrega uma arquitetura já conhecida: ResNet18. O parâmetro \"pretrained\" define o uso ou não de \"Transfer Learning\"\n",
        "model_v4 = models.resnet18(pretrained=False)\n",
        "num_ftrs = model_v4.fc.in_features\n",
        "\n",
        "# Define a sáida de tamanho 2 (Duas classes).\n",
        "model_v4.fc = nn.Linear(num_ftrs, 2)\n",
        "\n",
        "model_v4 = model_v4.to(device) #usa a GPU, se disponível e a CPU caso contrário\n",
        "\n",
        "# Escolha da Loss Function (critério de otimização da classificação)\n",
        "criterion = nn.CrossEntropyLoss()\n",
        "\n",
        "optimizer = []\n",
        "\n",
        "optimizer.append(optim.SGD(model_v4.parameters(), lr=0.001, momentum=0.9))\n",
        "optimizer.append(optim.SGD(model_v4.parameters(), lr=0.0008, momentum=0.9))\n",
        "optimizer.append(optim.SGD(model_v4.parameters(), lr=0.0001, momentum=0.9))\n",
        "optimizer.append(optim.SGD(model_v4.parameters(), lr=0.00005, momentum=0.9))\n",
        "optimizer.append(optim.SGD(model_v4.parameters(), lr=0.000005, momentum=0.9))"
      ],
      "execution_count": 87,
      "outputs": []
    },
    {
      "cell_type": "code",
      "metadata": {
        "id": "gTU1T0PELotP",
        "colab": {
          "base_uri": "https://localhost:8080/",
          "height": 1000
        },
        "outputId": "1ed601b0-e8e7-4632-f140-736703e235bc"
      },
      "source": [
        "for opt in range(len(optimizer)):\n",
        "  print('Optimizer: ', optimizer[opt])\n",
        "\n",
        "  LOSS_train = []\n",
        "  LOSS_val = []\n",
        "  ACC_train = []\n",
        "  ACC_val = []\n",
        "\n",
        "  exp_lr_scheduler = lr_scheduler.StepLR(optimizer[opt], step_size=100, gamma=0.5)\n",
        "\n",
        "  op_model_v4 = train_model(model_v4, criterion, optimizer[opt], exp_lr_scheduler, num_epochs=EPOCHS)\n",
        "\n",
        "  LOSSES = np.array([LOSS_train,LOSS_val,ACC_train,ACC_val]).T\n",
        "         \n",
        "  plt.plot(LOSSES[:,:2])\n",
        "  plt.axis([0, len(LOSSES), 0, 1])\n",
        "  plt.legend(['LOSS_train','LOSS_val'])\n",
        "  plt.show()\n",
        "  plt.plot(LOSSES[:,2:])\n",
        "  plt.axis([0, len(LOSSES), 0, 1])\n",
        "  plt.legend(['ACC_train','ACC_val'])\n",
        "  plt.show()\n",
        "  print('max ACC = ', LOSSES[:,3:].max())\n",
        "\n",
        "  test_group_len = 26\n",
        "  PREDICTED, LABEL = predic_model(op_model_v4, plot_img = False, num_images=test_group_len)\n",
        "\n",
        "  test_health_size = len([x for x in range(len(LABEL)) if LABEL[x] == 'health'])\n",
        "  test_tumor_size = len([x for x in range(len(LABEL)) if LABEL[x] == 'tumor'])\n",
        "\n",
        "  print('\\n Conjunto de Teste \\n')\n",
        "  CM_test = confusion_matrix(LABEL, PREDICTED)\n",
        "  Sensibilidade = CM_test[1,1]/test_tumor_size # Sensibilidade: é a razão entre as imagens com tumor classificadas corretamente e o total de imagens com tumor (Verdadeiros positivos ÷ tumores)\n",
        "  Especificidade = CM_test[0,0]/test_health_size # Especificidade: é a razão entre as imagens sem tumor classificadas corretamente e o total de imagens sem tumor (Verdadeiros negativos ÷ sadios)\n",
        "  print('labels = ', LABEL)\n",
        "  print('predições = ', PREDICTED)\n",
        "  print('matriz de confusão = \\n', CM_test)\n",
        "  print('Sensibilidade = ', Sensibilidade)\n",
        "  print('Especificidade = ', Especificidade)\n",
        "  print('acc = ', len([x for x in range(len(LABEL)) if LABEL[x] == PREDICTED[x]])/test_group_len)\n",
        "  print('\\n\\n')\n",
        "\n",
        "  title = 'Versão 4 com opitimizer ' + str(opt+1)\n",
        "  string_all.append(title)\n",
        "  sensibilidade_all.append(Sensibilidade)\n",
        "  especificidade_all.append(Especificidade)\n",
        "  acc_all.append(len([x for x in range(len(LABEL)) if LABEL[x] == PREDICTED[x]])/test_group_len)"
      ],
      "execution_count": 88,
      "outputs": [
        {
          "output_type": "stream",
          "text": [
            "Optimizer:  SGD (\n",
            "Parameter Group 0\n",
            "    dampening: 0\n",
            "    lr: 0.001\n",
            "    momentum: 0.9\n",
            "    nesterov: False\n",
            "    weight_decay: 0\n",
            ")\n",
            "Epoch 0/9\n",
            "----------\n",
            "train Loss: 0.6832 Acc: 0.5909\n",
            "val Loss: 0.6813 Acc: 0.5882\n",
            "\n",
            "Epoch 1/9\n",
            "----------\n",
            "train Loss: 0.6329 Acc: 0.6477\n",
            "val Loss: 0.6563 Acc: 0.6275\n",
            "\n",
            "Epoch 2/9\n",
            "----------\n",
            "train Loss: 0.6529 Acc: 0.6080\n",
            "val Loss: 0.6391 Acc: 0.6471\n",
            "\n",
            "Epoch 3/9\n",
            "----------\n",
            "train Loss: 0.6340 Acc: 0.6477\n",
            "val Loss: 0.6230 Acc: 0.6275\n",
            "\n",
            "Epoch 4/9\n",
            "----------\n",
            "train Loss: 0.6392 Acc: 0.6250\n",
            "val Loss: 0.6721 Acc: 0.5098\n",
            "\n",
            "Epoch 5/9\n",
            "----------\n",
            "train Loss: 0.6326 Acc: 0.6477\n",
            "val Loss: 0.6036 Acc: 0.6471\n",
            "\n",
            "Epoch 6/9\n",
            "----------\n",
            "train Loss: 0.6172 Acc: 0.6250\n",
            "val Loss: 0.6109 Acc: 0.7059\n",
            "\n",
            "Epoch 7/9\n",
            "----------\n",
            "train Loss: 0.6336 Acc: 0.6534\n",
            "val Loss: 0.6371 Acc: 0.5686\n",
            "\n",
            "Epoch 8/9\n",
            "----------\n",
            "train Loss: 0.5895 Acc: 0.6818\n",
            "val Loss: 0.5865 Acc: 0.7255\n",
            "\n",
            "Epoch 9/9\n",
            "----------\n",
            "train Loss: 0.5836 Acc: 0.6761\n",
            "val Loss: 0.6203 Acc: 0.6667\n",
            "\n",
            "Training complete in 0m 15s\n",
            "Best val Acc: 0.725490\n"
          ],
          "name": "stdout"
        },
        {
          "output_type": "display_data",
          "data": {
            "image/png": "[encoded data removed]",
            "text/plain": [
              "<Figure size 432x288 with 1 Axes>"
            ]
          },
          "metadata": {
            "tags": [],
            "needs_background": "light"
          }
        },
        {
          "output_type": "display_data",
          "data": {
            "image/png": "[encoded data removed]",
            "text/plain": [
              "<Figure size 432x288 with 1 Axes>"
            ]
          },
          "metadata": {
            "tags": [],
            "needs_background": "light"
          }
        },
        {
          "output_type": "stream",
          "text": [
            "max ACC =  tensor(0.7255, device='cuda:0', dtype=torch.float64)\n",
            "\n",
            " Conjunto de Teste \n",
            "\n",
            "labels =  ['tumor', 'tumor', 'health', 'tumor', 'tumor', 'tumor', 'tumor', 'health', 'health', 'tumor', 'tumor', 'tumor', 'health', 'tumor', 'health', 'health', 'tumor', 'health', 'tumor', 'tumor', 'tumor', 'health', 'tumor', 'health', 'tumor', 'health']\n",
            "predições =  ['tumor', 'health', 'health', 'tumor', 'tumor', 'tumor', 'tumor', 'health', 'health', 'tumor', 'tumor', 'tumor', 'health', 'tumor', 'health', 'health', 'tumor', 'health', 'tumor', 'health', 'tumor', 'health', 'health', 'tumor', 'health', 'health']\n",
            "matriz de confusão = \n",
            " [[ 9  1]\n",
            " [ 4 12]]\n",
            "Sensibilidade =  0.75\n",
            "Especificidade =  0.9\n",
            "acc =  0.8076923076923077\n",
            "\n",
            "\n",
            "\n",
            "Optimizer:  SGD (\n",
            "Parameter Group 0\n",
            "    dampening: 0\n",
            "    lr: 0.0008\n",
            "    momentum: 0.9\n",
            "    nesterov: False\n",
            "    weight_decay: 0\n",
            ")\n",
            "Epoch 0/9\n",
            "----------\n",
            "train Loss: 0.5728 Acc: 0.7102\n",
            "val Loss: 0.6488 Acc: 0.5686\n",
            "\n",
            "Epoch 1/9\n",
            "----------\n",
            "train Loss: 0.5815 Acc: 0.6818\n",
            "val Loss: 0.6011 Acc: 0.6667\n",
            "\n",
            "Epoch 2/9\n",
            "----------\n",
            "train Loss: 0.5286 Acc: 0.7216\n",
            "val Loss: 0.6928 Acc: 0.5686\n",
            "\n",
            "Epoch 3/9\n",
            "----------\n",
            "train Loss: 0.5373 Acc: 0.7159\n",
            "val Loss: 0.7351 Acc: 0.5098\n",
            "\n",
            "Epoch 4/9\n",
            "----------\n",
            "train Loss: 0.5660 Acc: 0.7216\n",
            "val Loss: 0.5664 Acc: 0.6863\n",
            "\n",
            "Epoch 5/9\n",
            "----------\n",
            "train Loss: 0.5992 Acc: 0.6932\n",
            "val Loss: 0.5497 Acc: 0.7059\n",
            "\n",
            "Epoch 6/9\n",
            "----------\n",
            "train Loss: 0.5653 Acc: 0.7273\n",
            "val Loss: 0.5523 Acc: 0.6863\n",
            "\n",
            "Epoch 7/9\n",
            "----------\n",
            "train Loss: 0.5482 Acc: 0.7443\n",
            "val Loss: 0.5439 Acc: 0.7451\n",
            "\n",
            "Epoch 8/9\n",
            "----------\n",
            "train Loss: 0.5721 Acc: 0.6989\n",
            "val Loss: 0.5488 Acc: 0.7451\n",
            "\n",
            "Epoch 9/9\n",
            "----------\n",
            "train Loss: 0.5750 Acc: 0.7045\n",
            "val Loss: 0.5582 Acc: 0.7255\n",
            "\n",
            "Training complete in 0m 15s\n",
            "Best val Acc: 0.745098\n"
          ],
          "name": "stdout"
        },
        {
          "output_type": "display_data",
          "data": {
            "image/png": "[encoded data removed]",
            "text/plain": [
              "<Figure size 432x288 with 1 Axes>"
            ]
          },
          "metadata": {
            "tags": [],
            "needs_background": "light"
          }
        },
        {
          "output_type": "display_data",
          "data": {
            "image/png": "[encoded data removed]",
            "text/plain": [
              "<Figure size 432x288 with 1 Axes>"
            ]
          },
          "metadata": {
            "tags": [],
            "needs_background": "light"
          }
        },
        {
          "output_type": "stream",
          "text": [
            "max ACC =  tensor(0.7451, device='cuda:0', dtype=torch.float64)\n",
            "\n",
            " Conjunto de Teste \n",
            "\n",
            "labels =  ['health', 'health', 'tumor', 'tumor', 'tumor', 'tumor', 'health', 'health', 'tumor', 'health', 'tumor', 'health', 'health', 'health', 'tumor', 'tumor', 'tumor', 'tumor', 'tumor', 'health', 'tumor', 'tumor', 'health', 'tumor', 'tumor', 'tumor']\n",
            "predições =  ['health', 'tumor', 'tumor', 'tumor', 'tumor', 'tumor', 'health', 'health', 'tumor', 'health', 'health', 'health', 'health', 'health', 'tumor', 'tumor', 'tumor', 'tumor', 'tumor', 'health', 'tumor', 'health', 'health', 'tumor', 'tumor', 'tumor']\n",
            "matriz de confusão = \n",
            " [[ 9  1]\n",
            " [ 2 14]]\n",
            "Sensibilidade =  0.875\n",
            "Especificidade =  0.9\n",
            "acc =  0.8846153846153846\n",
            "\n",
            "\n",
            "\n",
            "Optimizer:  SGD (\n",
            "Parameter Group 0\n",
            "    dampening: 0\n",
            "    lr: 0.0001\n",
            "    momentum: 0.9\n",
            "    nesterov: False\n",
            "    weight_decay: 0\n",
            ")\n",
            "Epoch 0/9\n",
            "----------\n",
            "train Loss: 0.5624 Acc: 0.7159\n",
            "val Loss: 0.5511 Acc: 0.7255\n",
            "\n",
            "Epoch 1/9\n",
            "----------\n",
            "train Loss: 0.5708 Acc: 0.7216\n",
            "val Loss: 0.5465 Acc: 0.7255\n",
            "\n",
            "Epoch 2/9\n",
            "----------\n",
            "train Loss: 0.5548 Acc: 0.7045\n",
            "val Loss: 0.5417 Acc: 0.7255\n",
            "\n",
            "Epoch 3/9\n",
            "----------\n",
            "train Loss: 0.5457 Acc: 0.7216\n",
            "val Loss: 0.5325 Acc: 0.7059\n",
            "\n",
            "Epoch 4/9\n",
            "----------\n",
            "train Loss: 0.5684 Acc: 0.7045\n",
            "val Loss: 0.5399 Acc: 0.7059\n",
            "\n",
            "Epoch 5/9\n",
            "----------\n",
            "train Loss: 0.4896 Acc: 0.7727\n",
            "val Loss: 0.5589 Acc: 0.7451\n",
            "\n",
            "Epoch 6/9\n",
            "----------\n",
            "train Loss: 0.5632 Acc: 0.7159\n",
            "val Loss: 0.5890 Acc: 0.6863\n",
            "\n",
            "Epoch 7/9\n",
            "----------\n",
            "train Loss: 0.5154 Acc: 0.7614\n",
            "val Loss: 0.5845 Acc: 0.6863\n",
            "\n",
            "Epoch 8/9\n",
            "----------\n",
            "train Loss: 0.5533 Acc: 0.7102\n",
            "val Loss: 0.5962 Acc: 0.6667\n",
            "\n",
            "Epoch 9/9\n",
            "----------\n",
            "train Loss: 0.5076 Acc: 0.7841\n",
            "val Loss: 0.5737 Acc: 0.6667\n",
            "\n",
            "Training complete in 0m 15s\n",
            "Best val Acc: 0.745098\n"
          ],
          "name": "stdout"
        },
        {
          "output_type": "display_data",
          "data": {
            "image/png": "[encoded data removed]",
            "text/plain": [
              "<Figure size 432x288 with 1 Axes>"
            ]
          },
          "metadata": {
            "tags": [],
            "needs_background": "light"
          }
        },
        {
          "output_type": "display_data",
          "data": {
            "image/png": "[encoded data removed]",
            "text/plain": [
              "<Figure size 432x288 with 1 Axes>"
            ]
          },
          "metadata": {
            "tags": [],
            "needs_background": "light"
          }
        },
        {
          "output_type": "stream",
          "text": [
            "max ACC =  tensor(0.7451, device='cuda:0', dtype=torch.float64)\n",
            "\n",
            " Conjunto de Teste \n",
            "\n",
            "labels =  ['tumor', 'health', 'tumor', 'tumor', 'health', 'health', 'tumor', 'health', 'health', 'tumor', 'tumor', 'tumor', 'tumor', 'tumor', 'health', 'tumor', 'tumor', 'tumor', 'tumor', 'health', 'tumor', 'health', 'tumor', 'tumor', 'health', 'health']\n",
            "predições =  ['tumor', 'health', 'tumor', 'tumor', 'health', 'health', 'tumor', 'health', 'health', 'tumor', 'tumor', 'health', 'tumor', 'tumor', 'health', 'tumor', 'tumor', 'health', 'tumor', 'health', 'tumor', 'health', 'tumor', 'health', 'health', 'health']\n",
            "matriz de confusão = \n",
            " [[10  0]\n",
            " [ 3 13]]\n",
            "Sensibilidade =  0.8125\n",
            "Especificidade =  1.0\n",
            "acc =  0.8846153846153846\n",
            "\n",
            "\n",
            "\n",
            "Optimizer:  SGD (\n",
            "Parameter Group 0\n",
            "    dampening: 0\n",
            "    lr: 5e-05\n",
            "    momentum: 0.9\n",
            "    nesterov: False\n",
            "    weight_decay: 0\n",
            ")\n",
            "Epoch 0/9\n",
            "----------\n",
            "train Loss: 0.5581 Acc: 0.6989\n",
            "val Loss: 0.5726 Acc: 0.7059\n",
            "\n",
            "Epoch 1/9\n",
            "----------\n",
            "train Loss: 0.5094 Acc: 0.7614\n",
            "val Loss: 0.5649 Acc: 0.7255\n",
            "\n",
            "Epoch 2/9\n",
            "----------\n",
            "train Loss: 0.5223 Acc: 0.7727\n",
            "val Loss: 0.5614 Acc: 0.7255\n",
            "\n",
            "Epoch 3/9\n",
            "----------\n",
            "train Loss: 0.5388 Acc: 0.7216\n",
            "val Loss: 0.5611 Acc: 0.7255\n",
            "\n",
            "Epoch 4/9\n",
            "----------\n",
            "train Loss: 0.5600 Acc: 0.6989\n",
            "val Loss: 0.5565 Acc: 0.7255\n",
            "\n",
            "Epoch 5/9\n",
            "----------\n",
            "train Loss: 0.5871 Acc: 0.7216\n",
            "val Loss: 0.5516 Acc: 0.7255\n",
            "\n",
            "Epoch 6/9\n",
            "----------\n",
            "train Loss: 0.5829 Acc: 0.6932\n",
            "val Loss: 0.5468 Acc: 0.7255\n",
            "\n",
            "Epoch 7/9\n",
            "----------\n",
            "train Loss: 0.4966 Acc: 0.7614\n",
            "val Loss: 0.5527 Acc: 0.7255\n",
            "\n",
            "Epoch 8/9\n",
            "----------\n",
            "train Loss: 0.5500 Acc: 0.6989\n",
            "val Loss: 0.5662 Acc: 0.7255\n",
            "\n",
            "Epoch 9/9\n",
            "----------\n",
            "train Loss: 0.5265 Acc: 0.7330\n",
            "val Loss: 0.5649 Acc: 0.7255\n",
            "\n",
            "Training complete in 0m 15s\n",
            "Best val Acc: 0.725490\n"
          ],
          "name": "stdout"
        },
        {
          "output_type": "display_data",
          "data": {
            "image/png": "[encoded data removed]",
            "text/plain": [
              "<Figure size 432x288 with 1 Axes>"
            ]
          },
          "metadata": {
            "tags": [],
            "needs_background": "light"
          }
        },
        {
          "output_type": "display_data",
          "data": {
            "image/png": "[encoded data removed]",
            "text/plain": [
              "<Figure size 432x288 with 1 Axes>"
            ]
          },
          "metadata": {
            "tags": [],
            "needs_background": "light"
          }
        },
        {
          "output_type": "stream",
          "text": [
            "max ACC =  tensor(0.7255, device='cuda:0', dtype=torch.float64)\n",
            "\n",
            " Conjunto de Teste \n",
            "\n",
            "labels =  ['tumor', 'tumor', 'health', 'health', 'tumor', 'health', 'health', 'tumor', 'tumor', 'tumor', 'health', 'tumor', 'health', 'health', 'tumor', 'tumor', 'tumor', 'health', 'tumor', 'tumor', 'health', 'health', 'tumor', 'tumor', 'tumor', 'tumor']\n",
            "predições =  ['tumor', 'tumor', 'health', 'health', 'tumor', 'health', 'health', 'health', 'tumor', 'tumor', 'health', 'tumor', 'health', 'health', 'health', 'tumor', 'tumor', 'health', 'health', 'tumor', 'health', 'health', 'tumor', 'tumor', 'tumor', 'tumor']\n",
            "matriz de confusão = \n",
            " [[10  0]\n",
            " [ 3 13]]\n",
            "Sensibilidade =  0.8125\n",
            "Especificidade =  1.0\n",
            "acc =  0.8846153846153846\n",
            "\n",
            "\n",
            "\n",
            "Optimizer:  SGD (\n",
            "Parameter Group 0\n",
            "    dampening: 0\n",
            "    lr: 5e-06\n",
            "    momentum: 0.9\n",
            "    nesterov: False\n",
            "    weight_decay: 0\n",
            ")\n",
            "Epoch 0/9\n",
            "----------\n",
            "train Loss: 0.5596 Acc: 0.7273\n",
            "val Loss: 0.5561 Acc: 0.7255\n",
            "\n",
            "Epoch 1/9\n",
            "----------\n",
            "train Loss: 0.5949 Acc: 0.7159\n",
            "val Loss: 0.5616 Acc: 0.7451\n",
            "\n",
            "Epoch 2/9\n",
            "----------\n",
            "train Loss: 0.5615 Acc: 0.6932\n",
            "val Loss: 0.5614 Acc: 0.7451\n",
            "\n",
            "Epoch 3/9\n",
            "----------\n",
            "train Loss: 0.5673 Acc: 0.7159\n",
            "val Loss: 0.5554 Acc: 0.7255\n",
            "\n",
            "Epoch 4/9\n",
            "----------\n",
            "train Loss: 0.5673 Acc: 0.6591\n",
            "val Loss: 0.5557 Acc: 0.7255\n",
            "\n",
            "Epoch 5/9\n",
            "----------\n",
            "train Loss: 0.5753 Acc: 0.6932\n",
            "val Loss: 0.5653 Acc: 0.7059\n",
            "\n",
            "Epoch 6/9\n",
            "----------\n",
            "train Loss: 0.5378 Acc: 0.7500\n",
            "val Loss: 0.5584 Acc: 0.7255\n",
            "\n",
            "Epoch 7/9\n",
            "----------\n",
            "train Loss: 0.5525 Acc: 0.7102\n",
            "val Loss: 0.5594 Acc: 0.7451\n",
            "\n",
            "Epoch 8/9\n",
            "----------\n",
            "train Loss: 0.5481 Acc: 0.7273\n",
            "val Loss: 0.5683 Acc: 0.7255\n",
            "\n",
            "Epoch 9/9\n",
            "----------\n",
            "train Loss: 0.5373 Acc: 0.7273\n",
            "val Loss: 0.5613 Acc: 0.7451\n",
            "\n",
            "Training complete in 0m 15s\n",
            "Best val Acc: 0.745098\n"
          ],
          "name": "stdout"
        },
        {
          "output_type": "display_data",
          "data": {
            "image/png": "[encoded data removed]",
            "text/plain": [
              "<Figure size 432x288 with 1 Axes>"
            ]
          },
          "metadata": {
            "tags": [],
            "needs_background": "light"
          }
        },
        {
          "output_type": "display_data",
          "data": {
            "image/png": "[encoded data removed]",
            "text/plain": [
              "<Figure size 432x288 with 1 Axes>"
            ]
          },
          "metadata": {
            "tags": [],
            "needs_background": "light"
          }
        },
        {
          "output_type": "stream",
          "text": [
            "max ACC =  tensor(0.7451, device='cuda:0', dtype=torch.float64)\n",
            "\n",
            " Conjunto de Teste \n",
            "\n",
            "labels =  ['tumor', 'tumor', 'tumor', 'tumor', 'health', 'tumor', 'health', 'tumor', 'tumor', 'tumor', 'tumor', 'health', 'tumor', 'health', 'tumor', 'tumor', 'tumor', 'tumor', 'tumor', 'health', 'health', 'health', 'health', 'tumor', 'health', 'health']\n",
            "predições =  ['tumor', 'health', 'tumor', 'tumor', 'health', 'tumor', 'health', 'health', 'tumor', 'tumor', 'tumor', 'health', 'tumor', 'health', 'tumor', 'tumor', 'tumor', 'health', 'tumor', 'health', 'health', 'health', 'health', 'tumor', 'health', 'health']\n",
            "matriz de confusão = \n",
            " [[10  0]\n",
            " [ 3 13]]\n",
            "Sensibilidade =  0.8125\n",
            "Especificidade =  1.0\n",
            "acc =  0.8846153846153846\n",
            "\n",
            "\n",
            "\n"
          ],
          "name": "stdout"
        }
      ]
    },
    {
      "cell_type": "markdown",
      "metadata": {
        "id": "lX3vDk_w_3ue"
      },
      "source": [
        "## Finetuning the resnet18"
      ]
    },
    {
      "cell_type": "code",
      "metadata": {
        "colab": {
          "base_uri": "https://localhost:8080/"
        },
        "id": "c_wfAQEZ3cQi",
        "outputId": "e38f54c1-48f6-490a-9a7f-a1889bb735a1"
      },
      "source": [
        "# Data augmentation and normalization for training\n",
        "\n",
        "input_size = 224\n",
        "\n",
        "data_transforms = {\n",
        "    'train': transforms.Compose([\n",
        "        transforms.RandomResizedCrop(input_size),\n",
        "        transforms.RandomHorizontalFlip(),\n",
        "        transforms.ToTensor(),\n",
        "        transforms.Normalize([0.485, 0.456, 0.406], [0.229, 0.224, 0.225])\n",
        "    ]),\n",
        "    'val': transforms.Compose([\n",
        "        transforms.Resize(input_size),\n",
        "        transforms.CenterCrop(input_size),\n",
        "        transforms.ToTensor(),\n",
        "        transforms.Normalize([0.485, 0.456, 0.406], [0.229, 0.224, 0.225])\n",
        "    ]),\n",
        "    'test': transforms.Compose([\n",
        "        transforms.Resize(input_size),\n",
        "        transforms.CenterCrop(input_size),\n",
        "        transforms.ToTensor(),\n",
        "        transforms.Normalize([0.485, 0.456, 0.406], [0.229, 0.224, 0.225])\n",
        "    ]),\n",
        "}\n",
        "\n",
        "##data_dir = 'gdrive/MyDrive/Brain_Tumor_Classification_Dataset/'\n",
        "data_dir = '/content/DataSets/Brain_Tumor/'\n",
        "image_datasets = {x: datasets.ImageFolder(os.path.join(data_dir, x), data_transforms[x]) for x in ['train', 'val', 'test']}\n",
        "\n",
        "#Loading the datasets\n",
        "dataloaders = {x: torch.utils.data.DataLoader(image_datasets[x], batch_size=24, shuffle=True, num_workers=2) for x in ['train', 'val', 'test']}\n",
        "\n",
        "dataset_sizes = {x: len(image_datasets[x]) for x in ['train', 'val', 'test']}\n",
        "class_names = image_datasets['train'].classes\n",
        "\n",
        "device = torch.device(\"cuda:0\" if torch.cuda.is_available() else \"cpu\")\n",
        "device"
      ],
      "execution_count": 89,
      "outputs": [
        {
          "output_type": "execute_result",
          "data": {
            "text/plain": [
              "device(type='cuda', index=0)"
            ]
          },
          "metadata": {
            "tags": []
          },
          "execution_count": 89
        }
      ]
    },
    {
      "cell_type": "code",
      "metadata": {
        "colab": {
          "base_uri": "https://localhost:8080/"
        },
        "id": "BVFjjMVLdQqg",
        "outputId": "9127ddf4-0b0c-456b-ca91-fce5d64b0406"
      },
      "source": [
        "# https://www.kaggle.com/vvijaybabu/2-class-classification-resnet-18-kernel\n",
        "\n",
        "ngpus_per_node = torch.cuda.device_count()\n",
        "feature_extract = False # if true this will not re-train the model, but only change the last stage\n",
        "use_pretrained = True\n",
        "\n",
        "# create model\n",
        "print(\"=> creating model \")\n",
        "model = models.resnet18(pretrained=use_pretrained) #pretrained=use_pretrained\n",
        "device = torch.device(\"cuda:0\" if torch.cuda.is_available() else \"cpu\")\n",
        "#model = torch.nn.DataParallel(model).cuda()\n",
        "\n",
        "if feature_extract:\n",
        "    for param in model.parameters():\n",
        "        param.requires_grad = False\n",
        "\n",
        "num_ftrs = model.fc.in_features\n",
        "model.fc = nn.Linear(num_ftrs, 2)            \n",
        "model.to(device)\n",
        "\n",
        "# define loss function (criterion) and optimizer\n",
        "criterion = nn.CrossEntropyLoss().cuda(ngpus_per_node)\n",
        "\n",
        "modeldir = os.path.join('../data/', 'train')\n",
        "# Data loading code\n",
        "normalize = transforms.Normalize(mean=[0.485, 0.456, 0.406], std=[0.229, 0.224, 0.225])\n",
        "\n",
        "#print(\"length\", train_dataset.__len__)\n",
        "\n",
        "#load the classification results\n",
        "#now based on results, move the image to either of 2 classification bucket\n",
        "#if dir \"cactus\" or \"nocactus\" is not present, create it\n",
        "\n",
        "params_to_update = []\n",
        "\n",
        "if feature_extract:\n",
        "    for name,param in model.named_parameters():\n",
        "        if param.requires_grad == True:\n",
        "            params_to_update.append(param)\n",
        "            #print(\"\\t\",name)\n",
        "else:\n",
        "    for name,param in model.named_parameters():\n",
        "        if param.requires_grad == True:\n",
        "            params_to_update.append(param)\n",
        "            #print(\"\\t\",name)\n",
        "\n",
        "# define loss function (criterion) and optimizer\n",
        "criterion = nn.CrossEntropyLoss().cuda(ngpus_per_node)\n",
        "optimizer_ft = optim.SGD(params_to_update, lr=0.001, momentum=0.9)\n",
        "\n",
        "# Decay LR by a factor of 0.1 every 7 epochs\n",
        "exp_lr_scheduler = lr_scheduler.StepLR(optimizer_ft, step_size=7, gamma=0.1)"
      ],
      "execution_count": 90,
      "outputs": [
        {
          "output_type": "stream",
          "text": [
            "=> creating model \n"
          ],
          "name": "stdout"
        }
      ]
    },
    {
      "cell_type": "code",
      "metadata": {
        "colab": {
          "base_uri": "https://localhost:8080/"
        },
        "id": "aqMOzwTEdq1_",
        "outputId": "c918ff8d-9ac0-4e49-d196-d2aa1662011f"
      },
      "source": [
        "LOSS_train = []\n",
        "LOSS_val = []\n",
        "ACC_train = []\n",
        "ACC_val = []\n",
        "\n",
        "# Train and evaluate\n",
        "model_resnet = train_model(model, criterion, optimizer_ft, exp_lr_scheduler, num_epochs=EPOCHS)"
      ],
      "execution_count": 91,
      "outputs": [
        {
          "output_type": "stream",
          "text": [
            "Epoch 0/9\n",
            "----------\n",
            "train Loss: 0.6673 Acc: 0.6250\n",
            "val Loss: 0.6207 Acc: 0.6078\n",
            "\n",
            "Epoch 1/9\n",
            "----------\n",
            "train Loss: 0.6043 Acc: 0.6534\n",
            "val Loss: 0.5853 Acc: 0.7255\n",
            "\n",
            "Epoch 2/9\n",
            "----------\n",
            "train Loss: 0.4863 Acc: 0.8182\n",
            "val Loss: 0.4354 Acc: 0.8431\n",
            "\n",
            "Epoch 3/9\n",
            "----------\n",
            "train Loss: 0.4230 Acc: 0.8295\n",
            "val Loss: 0.3660 Acc: 0.8627\n",
            "\n",
            "Epoch 4/9\n",
            "----------\n",
            "train Loss: 0.4030 Acc: 0.8068\n",
            "val Loss: 0.3373 Acc: 0.9216\n",
            "\n",
            "Epoch 5/9\n",
            "----------\n",
            "train Loss: 0.4368 Acc: 0.7841\n",
            "val Loss: 0.3320 Acc: 0.8824\n",
            "\n",
            "Epoch 6/9\n",
            "----------\n",
            "train Loss: 0.4111 Acc: 0.8239\n",
            "val Loss: 0.2920 Acc: 0.8824\n",
            "\n",
            "Epoch 7/9\n",
            "----------\n",
            "train Loss: 0.3083 Acc: 0.8636\n",
            "val Loss: 0.2883 Acc: 0.9020\n",
            "\n",
            "Epoch 8/9\n",
            "----------\n",
            "train Loss: 0.2651 Acc: 0.8920\n",
            "val Loss: 0.3046 Acc: 0.8627\n",
            "\n",
            "Epoch 9/9\n",
            "----------\n",
            "train Loss: 0.2764 Acc: 0.8807\n",
            "val Loss: 0.3358 Acc: 0.8627\n",
            "\n",
            "Training complete in 0m 15s\n",
            "Best val Acc: 0.921569\n"
          ],
          "name": "stdout"
        }
      ]
    },
    {
      "cell_type": "code",
      "metadata": {
        "colab": {
          "base_uri": "https://localhost:8080/",
          "height": 538
        },
        "id": "6L_84i_lBxHq",
        "outputId": "c27976a0-a9c3-47e7-d827-d23082984aba"
      },
      "source": [
        "LOSSES = np.array([LOSS_train,LOSS_val,ACC_train,ACC_val]).T\n",
        "         \n",
        "plt.plot(LOSSES[:,:2])\n",
        "plt.axis([0, len(LOSSES), 0, 1])\n",
        "plt.legend(['LOSS_train','LOSS_val'])\n",
        "plt.show()\n",
        "plt.plot(LOSSES[:,2:])\n",
        "plt.axis([0, len(LOSSES), 0, 1])\n",
        "plt.legend(['ACC_train','ACC_val'])\n",
        "plt.show()\n",
        "print('max ACC = ', LOSSES[:,3:].max())"
      ],
      "execution_count": 92,
      "outputs": [
        {
          "output_type": "display_data",
          "data": {
            "image/png": "[encoded data removed]",
            "text/plain": [
              "<Figure size 432x288 with 1 Axes>"
            ]
          },
          "metadata": {
            "tags": [],
            "needs_background": "light"
          }
        },
        {
          "output_type": "display_data",
          "data": {
            "image/png": "[encoded data removed]",
            "text/plain": [
              "<Figure size 432x288 with 1 Axes>"
            ]
          },
          "metadata": {
            "tags": [],
            "needs_background": "light"
          }
        },
        {
          "output_type": "stream",
          "text": [
            "max ACC =  tensor(0.9216, device='cuda:0', dtype=torch.float64)\n"
          ],
          "name": "stdout"
        }
      ]
    },
    {
      "cell_type": "code",
      "metadata": {
        "id": "syjZhwRNnC2K",
        "colab": {
          "base_uri": "https://localhost:8080/"
        },
        "outputId": "0ac3f80d-f8bf-4fdd-ff36-a9211cea8616"
      },
      "source": [
        "test_group_len = 26\n",
        "PREDICTED, LABEL = predic_model(model_resnet, plot_img = False, num_images=test_group_len)\n",
        "\n",
        "test_health_size = len([x for x in range(len(LABEL)) if LABEL[x] == 'health'])\n",
        "test_tumor_size = len([x for x in range(len(LABEL)) if LABEL[x] == 'tumor'])\n",
        "\n",
        "print('\\n Conjunto de Teste \\n')\n",
        "CM_test = confusion_matrix(LABEL, PREDICTED)\n",
        "Sensibilidade = CM_test[1,1]/test_tumor_size # Sensibilidade: é a razão entre as imagens com tumor classificadas corretamente e o total de imagens com tumor (Verdadeiros positivos ÷ tumores)\n",
        "Especificidade = CM_test[0,0]/test_health_size # Especificidade: é a razão entre as imagens sem tumor classificadas corretamente e o total de imagens sem tumor (Verdadeiros negativos ÷ sadios)\n",
        "print('labels = ', LABEL)\n",
        "print('predições = ', PREDICTED)\n",
        "print('matriz de confusão = \\n', CM_test)\n",
        "print('Sensibilidade = ', Sensibilidade)\n",
        "print('Especificidade = ', Especificidade)\n",
        "print('acc = ', len([x for x in range(len(LABEL)) if LABEL[x] == PREDICTED[x]])/test_group_len)\n",
        "\n",
        "string_all.append('Finituning the resnet18')\n",
        "sensibilidade_all.append(Sensibilidade)\n",
        "especificidade_all.append(Especificidade)\n",
        "acc_all.append(len([x for x in range(len(LABEL)) if LABEL[x] == PREDICTED[x]])/test_group_len)"
      ],
      "execution_count": 93,
      "outputs": [
        {
          "output_type": "stream",
          "text": [
            "\n",
            " Conjunto de Teste \n",
            "\n",
            "labels =  ['tumor', 'health', 'tumor', 'tumor', 'tumor', 'tumor', 'tumor', 'tumor', 'health', 'health', 'tumor', 'tumor', 'tumor', 'health', 'tumor', 'health', 'health', 'health', 'tumor', 'tumor', 'health', 'tumor', 'tumor', 'health', 'tumor', 'health']\n",
            "predições =  ['tumor', 'health', 'tumor', 'tumor', 'health', 'tumor', 'tumor', 'tumor', 'health', 'health', 'tumor', 'tumor', 'tumor', 'health', 'tumor', 'health', 'health', 'health', 'tumor', 'tumor', 'health', 'tumor', 'health', 'health', 'tumor', 'health']\n",
            "matriz de confusão = \n",
            " [[10  0]\n",
            " [ 2 14]]\n",
            "Sensibilidade =  0.875\n",
            "Especificidade =  1.0\n",
            "acc =  0.9230769230769231\n"
          ],
          "name": "stdout"
        }
      ]
    },
    {
      "cell_type": "markdown",
      "metadata": {
        "id": "hSiXNkjOi9GN"
      },
      "source": [
        "## Finetuning the convnet"
      ]
    },
    {
      "cell_type": "code",
      "metadata": {
        "id": "QPahuOmAiUig"
      },
      "source": [
        "model_ft = models.resnet18(pretrained=True)\n",
        "num_ftrs = model_ft.fc.in_features\n",
        "model_ft.fc = nn.Linear(num_ftrs, 2)\n",
        "\n",
        "use_gpu = torch.cuda.is_available()\n",
        "\n",
        "if use_gpu:\n",
        "    model_ft = model_ft.cuda()\n",
        "\n",
        "criterion = nn.CrossEntropyLoss()\n",
        "\n",
        "# Observe that all parameters are being optimized\n",
        "optimizer_ft = optim.SGD(model_ft.parameters(), lr=0.001, momentum=0.9)\n",
        "\n",
        "# Decay LR by a factor of 0.1 every 7 epochs\n",
        "exp_lr_scheduler = lr_scheduler.StepLR(optimizer_ft, step_size=7, gamma=0.1)"
      ],
      "execution_count": 94,
      "outputs": []
    },
    {
      "cell_type": "code",
      "metadata": {
        "colab": {
          "base_uri": "https://localhost:8080/"
        },
        "id": "9pbIMy3Ui-P_",
        "outputId": "8ac10c09-85bf-4f78-c522-64262404e2f4"
      },
      "source": [
        "LOSS_train = []\n",
        "LOSS_val = []\n",
        "ACC_train = []\n",
        "ACC_val = []\n",
        "\n",
        "model_convnet = train_model(model_ft, criterion, optimizer_ft, exp_lr_scheduler, num_epochs=EPOCHS)"
      ],
      "execution_count": 95,
      "outputs": [
        {
          "output_type": "stream",
          "text": [
            "Epoch 0/9\n",
            "----------\n",
            "train Loss: 0.7605 Acc: 0.5341\n",
            "val Loss: 0.6207 Acc: 0.7059\n",
            "\n",
            "Epoch 1/9\n",
            "----------\n",
            "train Loss: 0.5760 Acc: 0.7102\n",
            "val Loss: 0.5394 Acc: 0.7451\n",
            "\n",
            "Epoch 2/9\n",
            "----------\n",
            "train Loss: 0.5430 Acc: 0.7443\n",
            "val Loss: 0.4853 Acc: 0.7647\n",
            "\n",
            "Epoch 3/9\n",
            "----------\n",
            "train Loss: 0.5048 Acc: 0.7727\n",
            "val Loss: 0.4310 Acc: 0.8039\n",
            "\n",
            "Epoch 4/9\n",
            "----------\n",
            "train Loss: 0.4295 Acc: 0.8068\n",
            "val Loss: 0.3636 Acc: 0.8431\n",
            "\n",
            "Epoch 5/9\n",
            "----------\n",
            "train Loss: 0.3464 Acc: 0.8693\n",
            "val Loss: 0.3427 Acc: 0.8627\n",
            "\n",
            "Epoch 6/9\n",
            "----------\n",
            "train Loss: 0.3452 Acc: 0.8352\n",
            "val Loss: 0.2796 Acc: 0.8431\n",
            "\n",
            "Epoch 7/9\n",
            "----------\n",
            "train Loss: 0.3158 Acc: 0.8693\n",
            "val Loss: 0.2847 Acc: 0.8627\n",
            "\n",
            "Epoch 8/9\n",
            "----------\n",
            "train Loss: 0.3201 Acc: 0.8750\n",
            "val Loss: 0.2925 Acc: 0.8824\n",
            "\n",
            "Epoch 9/9\n",
            "----------\n",
            "train Loss: 0.3165 Acc: 0.8864\n",
            "val Loss: 0.3005 Acc: 0.8824\n",
            "\n",
            "Training complete in 0m 15s\n",
            "Best val Acc: 0.882353\n"
          ],
          "name": "stdout"
        }
      ]
    },
    {
      "cell_type": "code",
      "metadata": {
        "colab": {
          "base_uri": "https://localhost:8080/",
          "height": 538
        },
        "id": "3wAZPU2W1L8P",
        "outputId": "a1881a0f-a27a-4920-ce0d-66884091c4ac"
      },
      "source": [
        "LOSSES = np.array([LOSS_train,LOSS_val,ACC_train,ACC_val]).T\n",
        "         \n",
        "plt.plot(LOSSES[:,:2])\n",
        "plt.axis([0, len(LOSSES), 0, 1])\n",
        "plt.legend(['LOSS_train','LOSS_val'])\n",
        "plt.show()\n",
        "plt.plot(LOSSES[:,2:])\n",
        "plt.axis([0, len(LOSSES), 0, 1])\n",
        "plt.legend(['ACC_train','ACC_val'])\n",
        "plt.show()\n",
        "print('max ACC = ', LOSSES[:,3:].max())"
      ],
      "execution_count": 96,
      "outputs": [
        {
          "output_type": "display_data",
          "data": {
            "image/png": "[encoded data removed]",
            "text/plain": [
              "<Figure size 432x288 with 1 Axes>"
            ]
          },
          "metadata": {
            "tags": [],
            "needs_background": "light"
          }
        },
        {
          "output_type": "display_data",
          "data": {
            "image/png": "[encoded data removed]",
            "text/plain": [
              "<Figure size 432x288 with 1 Axes>"
            ]
          },
          "metadata": {
            "tags": [],
            "needs_background": "light"
          }
        },
        {
          "output_type": "stream",
          "text": [
            "max ACC =  tensor(0.8824, device='cuda:0', dtype=torch.float64)\n"
          ],
          "name": "stdout"
        }
      ]
    },
    {
      "cell_type": "code",
      "metadata": {
        "id": "gutCOu80m_TM",
        "colab": {
          "base_uri": "https://localhost:8080/"
        },
        "outputId": "19a91113-d64e-49c2-ba43-4804a43c0985"
      },
      "source": [
        "test_group_len = 26\n",
        "PREDICTED, LABEL = predic_model(model_convnet, plot_img = False, num_images=test_group_len)\n",
        "\n",
        "test_health_size = len([x for x in range(len(LABEL)) if LABEL[x] == 'health'])\n",
        "test_tumor_size = len([x for x in range(len(LABEL)) if LABEL[x] == 'tumor'])\n",
        "\n",
        "print('\\n Conjunto de Teste \\n')\n",
        "CM_test = confusion_matrix(LABEL, PREDICTED)\n",
        "Sensibilidade = CM_test[1,1]/test_tumor_size # Sensibilidade: é a razão entre as imagens com tumor classificadas corretamente e o total de imagens com tumor (Verdadeiros positivos ÷ tumores)\n",
        "Especificidade = CM_test[0,0]/test_health_size # Especificidade: é a razão entre as imagens sem tumor classificadas corretamente e o total de imagens sem tumor (Verdadeiros negativos ÷ sadios)\n",
        "print('labels = ', LABEL)\n",
        "print('predições = ', PREDICTED)\n",
        "print('matriz de confusão = \\n', CM_test)\n",
        "print('Sensibilidade = ', Sensibilidade)\n",
        "print('Especificidade = ', Especificidade)\n",
        "print('acc = ', len([x for x in range(len(LABEL)) if LABEL[x] == PREDICTED[x]])/test_group_len)\n",
        "\n",
        "string_all.append('Finituning the convnet')\n",
        "sensibilidade_all.append(Sensibilidade)\n",
        "especificidade_all.append(Especificidade)\n",
        "acc_all.append(len([x for x in range(len(LABEL)) if LABEL[x] == PREDICTED[x]])/test_group_len)"
      ],
      "execution_count": 97,
      "outputs": [
        {
          "output_type": "stream",
          "text": [
            "\n",
            " Conjunto de Teste \n",
            "\n",
            "labels =  ['tumor', 'health', 'tumor', 'tumor', 'health', 'tumor', 'health', 'tumor', 'tumor', 'tumor', 'tumor', 'health', 'tumor', 'tumor', 'health', 'health', 'tumor', 'tumor', 'health', 'health', 'tumor', 'health', 'tumor', 'health', 'tumor', 'tumor']\n",
            "predições =  ['tumor', 'health', 'tumor', 'tumor', 'health', 'tumor', 'health', 'tumor', 'tumor', 'tumor', 'health', 'health', 'tumor', 'tumor', 'health', 'health', 'tumor', 'tumor', 'health', 'health', 'tumor', 'health', 'tumor', 'health', 'tumor', 'tumor']\n",
            "matriz de confusão = \n",
            " [[10  0]\n",
            " [ 1 15]]\n",
            "Sensibilidade =  0.9375\n",
            "Especificidade =  1.0\n",
            "acc =  0.9615384615384616\n"
          ],
          "name": "stdout"
        }
      ]
    },
    {
      "cell_type": "markdown",
      "metadata": {
        "id": "VT0eNcnze4X1"
      },
      "source": [
        "## ConvNet as fixed feature extractor"
      ]
    },
    {
      "cell_type": "code",
      "metadata": {
        "id": "w2_PnQccjCpu"
      },
      "source": [
        "model_conv = torchvision.models.resnet18(pretrained=True)\n",
        "for param in model_conv.parameters():\n",
        "    param.requires_grad = False\n",
        "\n",
        "# Parameters of newly constructed modules have requires_grad=True by default\n",
        "num_ftrs = model_conv.fc.in_features\n",
        "model_conv.fc = nn.Linear(num_ftrs, 2)\n",
        "\n",
        "if use_gpu:\n",
        "    model_conv = model_conv.cuda()\n",
        "\n",
        "criterion = nn.CrossEntropyLoss()\n",
        "\n",
        "# Observe that only parameters of final layer are being optimized as\n",
        "# opoosed to before.\n",
        "optimizer_conv = optim.SGD(model_conv.fc.parameters(), lr=0.001, momentum=0.9)\n",
        "\n",
        "# Decay LR by a factor of 0.1 every 7 epochs\n",
        "exp_lr_scheduler = lr_scheduler.StepLR(optimizer_conv, step_size=7, gamma=0.1)"
      ],
      "execution_count": 98,
      "outputs": []
    },
    {
      "cell_type": "code",
      "metadata": {
        "colab": {
          "base_uri": "https://localhost:8080/"
        },
        "id": "THmBrejqjGHj",
        "outputId": "9d4d3181-caba-425f-d0db-b64b8f331c9f"
      },
      "source": [
        "LOSS_train = []\n",
        "LOSS_val = []\n",
        "ACC_train = []\n",
        "ACC_val = []\n",
        "\n",
        "model_conv2 = train_model(model_conv, criterion, optimizer_conv, exp_lr_scheduler, num_epochs=EPOCHS)"
      ],
      "execution_count": 99,
      "outputs": [
        {
          "output_type": "stream",
          "text": [
            "Epoch 0/9\n",
            "----------\n",
            "train Loss: 0.6743 Acc: 0.6023\n",
            "val Loss: 0.6727 Acc: 0.6275\n",
            "\n",
            "Epoch 1/9\n",
            "----------\n",
            "train Loss: 0.6012 Acc: 0.6932\n",
            "val Loss: 0.6218 Acc: 0.6078\n",
            "\n",
            "Epoch 2/9\n",
            "----------\n",
            "train Loss: 0.6212 Acc: 0.6534\n",
            "val Loss: 0.5890 Acc: 0.6275\n",
            "\n",
            "Epoch 3/9\n",
            "----------\n",
            "train Loss: 0.5635 Acc: 0.6989\n",
            "val Loss: 0.5231 Acc: 0.6667\n",
            "\n",
            "Epoch 4/9\n",
            "----------\n",
            "train Loss: 0.5405 Acc: 0.7045\n",
            "val Loss: 0.4558 Acc: 0.7647\n",
            "\n",
            "Epoch 5/9\n",
            "----------\n",
            "train Loss: 0.5052 Acc: 0.7614\n",
            "val Loss: 0.4415 Acc: 0.8039\n",
            "\n",
            "Epoch 6/9\n",
            "----------\n",
            "train Loss: 0.4824 Acc: 0.7784\n",
            "val Loss: 0.4455 Acc: 0.7843\n",
            "\n",
            "Epoch 7/9\n",
            "----------\n",
            "train Loss: 0.4740 Acc: 0.7784\n",
            "val Loss: 0.4497 Acc: 0.7843\n",
            "\n",
            "Epoch 8/9\n",
            "----------\n",
            "train Loss: 0.4331 Acc: 0.8011\n",
            "val Loss: 0.4550 Acc: 0.7843\n",
            "\n",
            "Epoch 9/9\n",
            "----------\n",
            "train Loss: 0.4746 Acc: 0.7614\n",
            "val Loss: 0.4683 Acc: 0.7451\n",
            "\n",
            "Training complete in 0m 14s\n",
            "Best val Acc: 0.803922\n"
          ],
          "name": "stdout"
        }
      ]
    },
    {
      "cell_type": "code",
      "metadata": {
        "colab": {
          "base_uri": "https://localhost:8080/",
          "height": 538
        },
        "id": "Y_iyYPuPmQE2",
        "outputId": "48c6c884-501a-4415-ec2f-5480c40777b1"
      },
      "source": [
        "LOSSES = np.array([LOSS_train,LOSS_val,ACC_train,ACC_val]).T\n",
        "         \n",
        "plt.plot(LOSSES[:,:2])\n",
        "plt.axis([0, len(LOSSES), 0, 1])\n",
        "plt.legend(['LOSS_train','LOSS_val'])\n",
        "plt.show()\n",
        "plt.plot(LOSSES[:,2:])\n",
        "plt.axis([0, len(LOSSES), 0, 1])\n",
        "plt.legend(['ACC_train','ACC_val'])\n",
        "plt.show()\n",
        "print('max ACC = ', LOSSES[:,3:].max())"
      ],
      "execution_count": 100,
      "outputs": [
        {
          "output_type": "display_data",
          "data": {
            "image/png": "[encoded data removed]",
            "text/plain": [
              "<Figure size 432x288 with 1 Axes>"
            ]
          },
          "metadata": {
            "tags": [],
            "needs_background": "light"
          }
        },
        {
          "output_type": "display_data",
          "data": {
            "image/png": "[encoded data removed]",
            "text/plain": [
              "<Figure size 432x288 with 1 Axes>"
            ]
          },
          "metadata": {
            "tags": [],
            "needs_background": "light"
          }
        },
        {
          "output_type": "stream",
          "text": [
            "max ACC =  tensor(0.8039, device='cuda:0', dtype=torch.float64)\n"
          ],
          "name": "stdout"
        }
      ]
    },
    {
      "cell_type": "code",
      "metadata": {
        "colab": {
          "base_uri": "https://localhost:8080/"
        },
        "id": "QdkMlUKkm2uK",
        "outputId": "630645d1-1050-46ec-d215-518939482b4a"
      },
      "source": [
        "test_group_len = 26\n",
        "PREDICTED, LABEL = predic_model(model_conv2, plot_img = False, num_images=test_group_len)\n",
        "\n",
        "test_health_size = len([x for x in range(len(LABEL)) if LABEL[x] == 'health'])\n",
        "test_tumor_size = len([x for x in range(len(LABEL)) if LABEL[x] == 'tumor'])\n",
        "\n",
        "print('\\n Conjunto de Teste \\n')\n",
        "CM_test = confusion_matrix(LABEL, PREDICTED)\n",
        "Sensibilidade = CM_test[1,1]/test_tumor_size # Sensibilidade: é a razão entre as imagens com tumor classificadas corretamente e o total de imagens com tumor (Verdadeiros positivos ÷ tumores)\n",
        "Especificidade = CM_test[0,0]/test_health_size # Especificidade: é a razão entre as imagens sem tumor classificadas corretamente e o total de imagens sem tumor (Verdadeiros negativos ÷ sadios)\n",
        "print('labels = ', LABEL)\n",
        "print('predições = ', PREDICTED)\n",
        "print('matriz de confusão = \\n', CM_test)\n",
        "print('Sensibilidade = ', Sensibilidade)\n",
        "print('Especificidade = ', Especificidade)\n",
        "print('acc = ', len([x for x in range(len(LABEL)) if LABEL[x] == PREDICTED[x]])/test_group_len)\n",
        "\n",
        "string_all.append('ConvNet as fixed feature extractor')\n",
        "sensibilidade_all.append(Sensibilidade)\n",
        "especificidade_all.append(Especificidade)\n",
        "acc_all.append(len([x for x in range(len(LABEL)) if LABEL[x] == PREDICTED[x]])/test_group_len)"
      ],
      "execution_count": 101,
      "outputs": [
        {
          "output_type": "stream",
          "text": [
            "\n",
            " Conjunto de Teste \n",
            "\n",
            "labels =  ['health', 'health', 'health', 'health', 'tumor', 'tumor', 'tumor', 'health', 'health', 'tumor', 'health', 'tumor', 'tumor', 'health', 'tumor', 'tumor', 'tumor', 'tumor', 'tumor', 'tumor', 'tumor', 'tumor', 'tumor', 'health', 'tumor', 'health']\n",
            "predições =  ['health', 'health', 'health', 'health', 'tumor', 'tumor', 'tumor', 'health', 'health', 'tumor', 'health', 'tumor', 'tumor', 'health', 'tumor', 'health', 'tumor', 'health', 'tumor', 'tumor', 'tumor', 'tumor', 'tumor', 'health', 'tumor', 'health']\n",
            "matriz de confusão = \n",
            " [[10  0]\n",
            " [ 2 14]]\n",
            "Sensibilidade =  0.875\n",
            "Especificidade =  1.0\n",
            "acc =  0.9230769230769231\n"
          ],
          "name": "stdout"
        }
      ]
    },
    {
      "cell_type": "markdown",
      "metadata": {
        "id": "1CUryNIErbAM"
      },
      "source": [
        "## Adicionando camadas\n",
        "\n",
        "Adiciona algumas camadas ao modelo pré-treinado:\n",
        "\n",
        "* Conv2d(3,64, kernel_size=(3,3), stride=(1,1), padding=(1,1), bias=False)\n",
        "* Sequencial()\n",
        "* AdaptiveAvgPool2d(1)\n",
        "* model_ft.fc.out_features = 200"
      ]
    },
    {
      "cell_type": "code",
      "metadata": {
        "id": "iTGjsqQrkQdY"
      },
      "source": [
        "model_ft = models.resnet18()\n",
        "model_ft.conv1 = nn.Conv2d(3,64, kernel_size=(3,3), stride=(1,1), padding=(1,1), bias=False)\n",
        "model_ft.maxpool = nn.Sequential()\n",
        "model_ft.avgpool = nn.AdaptiveAvgPool2d(1)\n",
        "model_ft.fc.out_features = 200\n",
        "\n",
        "device = torch.device(\"cuda:0\" if torch.cuda.is_available() else \"cpu\")\n",
        "model_ft = model_ft.to(device)\n",
        "\n",
        "criterion = nn.CrossEntropyLoss()\n",
        "\n",
        "# Observe that only parameters of final layer are being optimized as\n",
        "# opoosed to before.\n",
        "optimizer_conv = optim.SGD(model_ft.fc.parameters(), lr=0.001, momentum=0.9)\n",
        "\n",
        "# Decay LR by a factor of 0.1 every 7 epochs\n",
        "exp_lr_scheduler = lr_scheduler.StepLR(optimizer_conv, step_size=7, gamma=0.1)"
      ],
      "execution_count": 102,
      "outputs": []
    },
    {
      "cell_type": "code",
      "metadata": {
        "colab": {
          "base_uri": "https://localhost:8080/"
        },
        "id": "vPrAqqgVpZV2",
        "outputId": "2ac804fd-8ffd-4e2f-dd29-28a99f3b1a6b"
      },
      "source": [
        "LOSS_train = []\n",
        "LOSS_val = []\n",
        "ACC_train = []\n",
        "ACC_val = []\n",
        "\n",
        "model_camadas = train_model(model_ft, criterion, optimizer_conv, exp_lr_scheduler, num_epochs=EPOCHS)"
      ],
      "execution_count": 103,
      "outputs": [
        {
          "output_type": "stream",
          "text": [
            "Epoch 0/9\n",
            "----------\n",
            "train Loss: 6.0619 Acc: 0.2330\n",
            "val Loss: 5.0281 Acc: 0.6275\n",
            "\n",
            "Epoch 1/9\n",
            "----------\n",
            "train Loss: 1.9174 Acc: 0.6080\n",
            "val Loss: 1.5590 Acc: 0.6275\n",
            "\n",
            "Epoch 2/9\n",
            "----------\n",
            "train Loss: 0.7154 Acc: 0.6250\n",
            "val Loss: 0.7739 Acc: 0.4314\n",
            "\n",
            "Epoch 3/9\n",
            "----------\n",
            "train Loss: 0.7587 Acc: 0.5625\n",
            "val Loss: 0.6641 Acc: 0.6275\n",
            "\n",
            "Epoch 4/9\n",
            "----------\n",
            "train Loss: 0.6911 Acc: 0.5966\n",
            "val Loss: 0.6914 Acc: 0.5686\n",
            "\n",
            "Epoch 5/9\n",
            "----------\n",
            "train Loss: 0.6511 Acc: 0.6307\n",
            "val Loss: 0.6422 Acc: 0.6275\n",
            "\n",
            "Epoch 6/9\n",
            "----------\n",
            "train Loss: 0.6411 Acc: 0.6193\n",
            "val Loss: 0.6790 Acc: 0.6471\n",
            "\n",
            "Epoch 7/9\n",
            "----------\n",
            "train Loss: 0.6381 Acc: 0.6307\n",
            "val Loss: 0.6736 Acc: 0.6275\n",
            "\n",
            "Epoch 8/9\n",
            "----------\n",
            "train Loss: 0.6362 Acc: 0.6364\n",
            "val Loss: 0.6666 Acc: 0.6863\n",
            "\n",
            "Epoch 9/9\n",
            "----------\n",
            "train Loss: 0.6340 Acc: 0.6534\n",
            "val Loss: 0.6637 Acc: 0.6667\n",
            "\n",
            "Training complete in 1m 19s\n",
            "Best val Acc: 0.686275\n"
          ],
          "name": "stdout"
        }
      ]
    },
    {
      "cell_type": "code",
      "metadata": {
        "id": "i3NBO2QPpc0h",
        "colab": {
          "base_uri": "https://localhost:8080/",
          "height": 538
        },
        "outputId": "b414feb6-c76a-49ad-9d9e-86cbe88ab60f"
      },
      "source": [
        "LOSSES = np.array([LOSS_train,LOSS_val,ACC_train,ACC_val]).T\n",
        "         \n",
        "plt.plot(LOSSES[:,:2])\n",
        "plt.axis([0, len(LOSSES), 0, 1])\n",
        "plt.legend(['LOSS_train','LOSS_val'])\n",
        "plt.show()\n",
        "plt.plot(LOSSES[:,2:])\n",
        "plt.axis([0, len(LOSSES), 0, 1])\n",
        "plt.legend(['ACC_train','ACC_val'])\n",
        "plt.show()\n",
        "print('max ACC = ', LOSSES[:,3:].max())"
      ],
      "execution_count": 104,
      "outputs": [
        {
          "output_type": "display_data",
          "data": {
            "image/png": "[encoded data removed]",
            "text/plain": [
              "<Figure size 432x288 with 1 Axes>"
            ]
          },
          "metadata": {
            "tags": [],
            "needs_background": "light"
          }
        },
        {
          "output_type": "display_data",
          "data": {
            "image/png": "[encoded data removed]",
            "text/plain": [
              "<Figure size 432x288 with 1 Axes>"
            ]
          },
          "metadata": {
            "tags": [],
            "needs_background": "light"
          }
        },
        {
          "output_type": "stream",
          "text": [
            "max ACC =  tensor(0.6863, device='cuda:0', dtype=torch.float64)\n"
          ],
          "name": "stdout"
        }
      ]
    },
    {
      "cell_type": "code",
      "metadata": {
        "id": "XeMTIhJXpenK",
        "colab": {
          "base_uri": "https://localhost:8080/"
        },
        "outputId": "f0039852-ebbd-4d9b-c19e-7ff4e1f3eae9"
      },
      "source": [
        "test_group_len = 26\n",
        "PREDICTED, LABEL = predic_model(model_camadas, plot_img = False, num_images=test_group_len)\n",
        "\n",
        "test_health_size = len([x for x in range(len(LABEL)) if LABEL[x] == 'health'])\n",
        "test_tumor_size = len([x for x in range(len(LABEL)) if LABEL[x] == 'tumor'])\n",
        "\n",
        "print('\\n Conjunto de Teste \\n')\n",
        "CM_test = confusion_matrix(LABEL, PREDICTED)\n",
        "Sensibilidade = CM_test[1,1]/test_tumor_size # Sensibilidade: é a razão entre as imagens com tumor classificadas corretamente e o total de imagens com tumor (Verdadeiros positivos ÷ tumores)\n",
        "Especificidade = CM_test[0,0]/test_health_size # Especificidade: é a razão entre as imagens sem tumor classificadas corretamente e o total de imagens sem tumor (Verdadeiros negativos ÷ sadios)\n",
        "print('labels = ', LABEL)\n",
        "print('predições = ', PREDICTED)\n",
        "print('matriz de confusão = \\n', CM_test)\n",
        "print('Sensibilidade = ', Sensibilidade)\n",
        "print('Especificidade = ', Especificidade)\n",
        "print('acc = ', len([x for x in range(len(LABEL)) if LABEL[x] == PREDICTED[x]])/test_group_len)\n",
        "\n",
        "string_all.append('Adicionando camadas')\n",
        "sensibilidade_all.append(Sensibilidade)\n",
        "especificidade_all.append(Especificidade)\n",
        "acc_all.append(len([x for x in range(len(LABEL)) if LABEL[x] == PREDICTED[x]])/test_group_len)"
      ],
      "execution_count": 105,
      "outputs": [
        {
          "output_type": "stream",
          "text": [
            "\n",
            " Conjunto de Teste \n",
            "\n",
            "labels =  ['tumor', 'health', 'tumor', 'tumor', 'tumor', 'tumor', 'health', 'health', 'tumor', 'tumor', 'tumor', 'health', 'tumor', 'tumor', 'health', 'health', 'tumor', 'health', 'tumor', 'health', 'tumor', 'health', 'health', 'tumor', 'tumor', 'tumor']\n",
            "predições =  ['tumor', 'tumor', 'tumor', 'tumor', 'tumor', 'tumor', 'health', 'health', 'tumor', 'health', 'tumor', 'health', 'tumor', 'tumor', 'tumor', 'tumor', 'tumor', 'health', 'tumor', 'health', 'health', 'health', 'health', 'tumor', 'tumor', 'tumor']\n",
            "matriz de confusão = \n",
            " [[ 7  3]\n",
            " [ 2 14]]\n",
            "Sensibilidade =  0.875\n",
            "Especificidade =  0.7\n",
            "acc =  0.8076923076923077\n"
          ],
          "name": "stdout"
        }
      ]
    },
    {
      "cell_type": "markdown",
      "metadata": {
        "id": "xfLjV6166pQx"
      },
      "source": [
        "## Modelo Geral\n",
        "\n",
        "Cria um modelo como algumas funções adicionais."
      ]
    },
    {
      "cell_type": "code",
      "metadata": {
        "id": "936eQq0G8IUq"
      },
      "source": [
        "# https://pytorch.org/tutorials/beginner/finetuning_torchvision_models_tutorial.html"
      ],
      "execution_count": 106,
      "outputs": []
    },
    {
      "cell_type": "code",
      "metadata": {
        "id": "pcb_p5Ao0wyQ"
      },
      "source": [
        "data_dir = '/content/DataSets/Brain_Tumor/'\n",
        "\n",
        "# Models to choose from [resnet, alexnet, vgg, squeezenet, densenet, inception]\n",
        "model_name = \"squeezenet\"\n",
        "\n",
        "# Number of classes in the dataset\n",
        "num_classes = 2\n",
        "\n",
        "# Batch size for training (change depending on how much memory you have)\n",
        "batch_size = 8\n",
        "\n",
        "# Number of epochs to train for\n",
        "num_epochs = 15\n",
        "\n",
        "# Flag for feature extracting. When False, we finetune the whole model,\n",
        "#   when True we only update the reshaped layer params\n",
        "feature_extract = True"
      ],
      "execution_count": 107,
      "outputs": []
    },
    {
      "cell_type": "code",
      "metadata": {
        "id": "UN1BvQN11OLE"
      },
      "source": [
        "def set_parameter_requires_grad(model, feature_extracting):\n",
        "    if feature_extracting:\n",
        "        for param in model.parameters():\n",
        "            param.requires_grad = False"
      ],
      "execution_count": 108,
      "outputs": []
    },
    {
      "cell_type": "code",
      "metadata": {
        "id": "Idoj0NVG1SSH"
      },
      "source": [
        "def initialize_model(model_name, num_classes, feature_extract, use_pretrained=True):\n",
        "    # Initialize these variables which will be set in this if statement. Each of these\n",
        "    #   variables is model specific.\n",
        "    model_ft = None\n",
        "    input_size = 0\n",
        "\n",
        "    if model_name == \"resnet\":\n",
        "        \"\"\" Resnet18\n",
        "        \"\"\"\n",
        "        model_ft = models.resnet18(pretrained=use_pretrained)\n",
        "        set_parameter_requires_grad(model_ft, feature_extract)\n",
        "        num_ftrs = model_ft.fc.in_features\n",
        "        model_ft.fc = nn.Linear(num_ftrs, num_classes)\n",
        "        input_size = 224\n",
        "\n",
        "    elif model_name == \"alexnet\":\n",
        "        \"\"\" Alexnet\n",
        "        \"\"\"\n",
        "        model_ft = models.alexnet(pretrained=use_pretrained)\n",
        "        set_parameter_requires_grad(model_ft, feature_extract)\n",
        "        num_ftrs = model_ft.classifier[6].in_features\n",
        "        model_ft.classifier[6] = nn.Linear(num_ftrs,num_classes)\n",
        "        input_size = 224\n",
        "\n",
        "    elif model_name == \"vgg\":\n",
        "        \"\"\" VGG11_bn\n",
        "        \"\"\"\n",
        "        model_ft = models.vgg11_bn(pretrained=use_pretrained)\n",
        "        set_parameter_requires_grad(model_ft, feature_extract)\n",
        "        num_ftrs = model_ft.classifier[6].in_features\n",
        "        model_ft.classifier[6] = nn.Linear(num_ftrs,num_classes)\n",
        "        input_size = 224\n",
        "\n",
        "    elif model_name == \"squeezenet\":\n",
        "        \"\"\" Squeezenet\n",
        "        \"\"\"\n",
        "        model_ft = models.squeezenet1_0(pretrained=use_pretrained)\n",
        "        set_parameter_requires_grad(model_ft, feature_extract)\n",
        "        model_ft.classifier[1] = nn.Conv2d(512, num_classes, kernel_size=(1,1), stride=(1,1))\n",
        "        model_ft.num_classes = num_classes\n",
        "        input_size = 224\n",
        "\n",
        "    elif model_name == \"densenet\":\n",
        "        \"\"\" Densenet\n",
        "        \"\"\"\n",
        "        model_ft = models.densenet121(pretrained=use_pretrained)\n",
        "        set_parameter_requires_grad(model_ft, feature_extract)\n",
        "        num_ftrs = model_ft.classifier.in_features\n",
        "        model_ft.classifier = nn.Linear(num_ftrs, num_classes)\n",
        "        input_size = 224\n",
        "\n",
        "    elif model_name == \"inception\":\n",
        "        \"\"\" Inception v3\n",
        "        Be careful, expects (299,299) sized images and has auxiliary output\n",
        "        \"\"\"\n",
        "        model_ft = models.inception_v3(pretrained=use_pretrained)\n",
        "        set_parameter_requires_grad(model_ft, feature_extract)\n",
        "        # Handle the auxilary net\n",
        "        num_ftrs = model_ft.AuxLogits.fc.in_features\n",
        "        model_ft.AuxLogits.fc = nn.Linear(num_ftrs, num_classes)\n",
        "        # Handle the primary net\n",
        "        num_ftrs = model_ft.fc.in_features\n",
        "        model_ft.fc = nn.Linear(num_ftrs,num_classes)\n",
        "        input_size = 299\n",
        "\n",
        "    else:\n",
        "        print(\"Invalid model name, exiting...\")\n",
        "        exit()\n",
        "\n",
        "    return model_ft, input_size\n",
        "\n",
        "# Initialize the model for this run\n",
        "model_ft, input_size = initialize_model(model_name, num_classes, feature_extract, use_pretrained=True)\n",
        "\n",
        "# Print the model we just instantiated\n",
        "#print(model_ft)"
      ],
      "execution_count": 109,
      "outputs": []
    },
    {
      "cell_type": "code",
      "metadata": {
        "id": "AAPagDj01afN",
        "colab": {
          "base_uri": "https://localhost:8080/"
        },
        "outputId": "05bf2663-07e3-435a-83d0-71288f9f0687"
      },
      "source": [
        "# Data augmentation and normalization for training\n",
        "\n",
        "input_size = 224\n",
        "\n",
        "data_transforms = {\n",
        "    'train': transforms.Compose([\n",
        "        transforms.RandomResizedCrop(input_size),\n",
        "        transforms.RandomHorizontalFlip(),\n",
        "        transforms.ToTensor(),\n",
        "        transforms.Normalize([0.485, 0.456, 0.406], [0.229, 0.224, 0.225])\n",
        "    ]),\n",
        "    'val': transforms.Compose([\n",
        "        transforms.Resize(input_size),\n",
        "        transforms.CenterCrop(input_size),\n",
        "        transforms.ToTensor(),\n",
        "        transforms.Normalize([0.485, 0.456, 0.406], [0.229, 0.224, 0.225])\n",
        "    ]),\n",
        "    'test': transforms.Compose([\n",
        "        transforms.Resize(input_size),\n",
        "        transforms.CenterCrop(input_size),\n",
        "        transforms.ToTensor(),\n",
        "        transforms.Normalize([0.485, 0.456, 0.406], [0.229, 0.224, 0.225])\n",
        "    ]),\n",
        "}\n",
        "\n",
        "data_dir = '/content/DataSets/Brain_Tumor/'\n",
        "image_datasets = {x: datasets.ImageFolder(os.path.join(data_dir, x), data_transforms[x]) for x in ['train', 'val', 'test']}\n",
        "\n",
        "#Loading the datasets\n",
        "dataloaders = {x: torch.utils.data.DataLoader(image_datasets[x], batch_size=24, shuffle=True, num_workers=2) for x in ['train', 'val', 'test']}\n",
        "\n",
        "dataset_sizes = {x: len(image_datasets[x]) for x in ['train', 'val', 'test']}\n",
        "class_names = image_datasets['train'].classes\n",
        "\n",
        "# Detect if we have a GPU available\n",
        "device = torch.device(\"cuda:0\" if torch.cuda.is_available() else \"cpu\")\n",
        "device"
      ],
      "execution_count": 110,
      "outputs": [
        {
          "output_type": "execute_result",
          "data": {
            "text/plain": [
              "device(type='cuda', index=0)"
            ]
          },
          "metadata": {
            "tags": []
          },
          "execution_count": 110
        }
      ]
    },
    {
      "cell_type": "code",
      "metadata": {
        "id": "dub9k7a81nHM",
        "colab": {
          "base_uri": "https://localhost:8080/"
        },
        "outputId": "984d1528-3a7a-4c62-ff65-94f6b055b939"
      },
      "source": [
        "# Send the model to GPU\n",
        "model_ft = model_ft.to(device)\n",
        "\n",
        "# Gather the parameters to be optimized/updated in this run. If we are\n",
        "#  finetuning we will be updating all parameters. However, if we are\n",
        "#  doing feature extract method, we will only update the parameters\n",
        "#  that we have just initialized, i.e. the parameters with requires_grad is True.\n",
        "params_to_update = model_ft.parameters()\n",
        "print(\"Params to learn:\")\n",
        "if feature_extract:\n",
        "    params_to_update = []\n",
        "    for name,param in model_ft.named_parameters():\n",
        "        if param.requires_grad == True:\n",
        "            params_to_update.append(param)\n",
        "            print(\"\\t\",name)\n",
        "else:\n",
        "    for name,param in model_ft.named_parameters():\n",
        "        if param.requires_grad == True:\n",
        "            print(\"\\t\",name)\n",
        "\n",
        "# Observe that all parameters are being optimized\n",
        "optimizer_ft = optim.SGD(params_to_update, lr=0.001, momentum=0.9)\n",
        "\n",
        "# Decay LR by a factor of 0.1 every 7 epochs\n",
        "exp_lr_scheduler = lr_scheduler.StepLR(optimizer_ft, step_size=7, gamma=0.1)\n",
        "\n",
        "# Setup the loss fxn\n",
        "criterion = nn.CrossEntropyLoss()"
      ],
      "execution_count": 111,
      "outputs": [
        {
          "output_type": "stream",
          "text": [
            "Params to learn:\n",
            "\t classifier.1.weight\n",
            "\t classifier.1.bias\n"
          ],
          "name": "stdout"
        }
      ]
    },
    {
      "cell_type": "code",
      "metadata": {
        "id": "n_Y-1TVp1pVY",
        "colab": {
          "base_uri": "https://localhost:8080/"
        },
        "outputId": "f5f3603d-fa21-4904-f40b-aeedef8f1e32"
      },
      "source": [
        "LOSS_train = []\n",
        "LOSS_val = []\n",
        "ACC_train = []\n",
        "ACC_val = []\n",
        "\n",
        "# Train and evaluate\n",
        "model_ft = train_model(model_ft, criterion, optimizer_ft, exp_lr_scheduler, num_epochs=EPOCHS)"
      ],
      "execution_count": 112,
      "outputs": [
        {
          "output_type": "stream",
          "text": [
            "Epoch 0/9\n",
            "----------\n",
            "train Loss: 0.7992 Acc: 0.5398\n",
            "val Loss: 0.6554 Acc: 0.6471\n",
            "\n",
            "Epoch 1/9\n",
            "----------\n",
            "train Loss: 0.6095 Acc: 0.6591\n",
            "val Loss: 0.5258 Acc: 0.7451\n",
            "\n",
            "Epoch 2/9\n",
            "----------\n",
            "train Loss: 0.5351 Acc: 0.7386\n",
            "val Loss: 0.5419 Acc: 0.7255\n",
            "\n",
            "Epoch 3/9\n",
            "----------\n",
            "train Loss: 0.4389 Acc: 0.8352\n",
            "val Loss: 0.4151 Acc: 0.8039\n",
            "\n",
            "Epoch 4/9\n",
            "----------\n",
            "train Loss: 0.5861 Acc: 0.6989\n",
            "val Loss: 0.3924 Acc: 0.8627\n",
            "\n",
            "Epoch 5/9\n",
            "----------\n",
            "train Loss: 0.4509 Acc: 0.8011\n",
            "val Loss: 0.3977 Acc: 0.7843\n",
            "\n",
            "Epoch 6/9\n",
            "----------\n",
            "train Loss: 0.4721 Acc: 0.7898\n",
            "val Loss: 0.3385 Acc: 0.9216\n",
            "\n",
            "Epoch 7/9\n",
            "----------\n",
            "train Loss: 0.4085 Acc: 0.8523\n",
            "val Loss: 0.3392 Acc: 0.9020\n",
            "\n",
            "Epoch 8/9\n",
            "----------\n",
            "train Loss: 0.4292 Acc: 0.8125\n",
            "val Loss: 0.3410 Acc: 0.9020\n",
            "\n",
            "Epoch 9/9\n",
            "----------\n",
            "train Loss: 0.3941 Acc: 0.8239\n",
            "val Loss: 0.3386 Acc: 0.8824\n",
            "\n",
            "Training complete in 0m 13s\n",
            "Best val Acc: 0.921569\n"
          ],
          "name": "stdout"
        }
      ]
    },
    {
      "cell_type": "code",
      "metadata": {
        "id": "F8wUKYoW9uXB",
        "colab": {
          "base_uri": "https://localhost:8080/",
          "height": 538
        },
        "outputId": "1e297822-434f-4190-e096-0629e1fc6efe"
      },
      "source": [
        "LOSSES = np.array([LOSS_train,LOSS_val,ACC_train,ACC_val]).T\n",
        "         \n",
        "plt.plot(LOSSES[:,:2])\n",
        "plt.axis([0, len(LOSSES), 0, 1])\n",
        "plt.legend(['LOSS_train','LOSS_val'])\n",
        "plt.show()\n",
        "plt.plot(LOSSES[:,2:])\n",
        "plt.axis([0, len(LOSSES), 0, 1])\n",
        "plt.legend(['ACC_train','ACC_val'])\n",
        "plt.show()\n",
        "print('max ACC = ', LOSSES[:,3:].max())"
      ],
      "execution_count": 113,
      "outputs": [
        {
          "output_type": "display_data",
          "data": {
            "image/png": "[encoded data removed]",
            "text/plain": [
              "<Figure size 432x288 with 1 Axes>"
            ]
          },
          "metadata": {
            "tags": [],
            "needs_background": "light"
          }
        },
        {
          "output_type": "display_data",
          "data": {
            "image/png": "[encoded data removed]",
            "text/plain": [
              "<Figure size 432x288 with 1 Axes>"
            ]
          },
          "metadata": {
            "tags": [],
            "needs_background": "light"
          }
        },
        {
          "output_type": "stream",
          "text": [
            "max ACC =  tensor(0.9216, device='cuda:0', dtype=torch.float64)\n"
          ],
          "name": "stdout"
        }
      ]
    },
    {
      "cell_type": "code",
      "metadata": {
        "id": "INl9ajU89TBE",
        "colab": {
          "base_uri": "https://localhost:8080/"
        },
        "outputId": "913307be-e65f-4b3b-9bec-d3c1ad158b3d"
      },
      "source": [
        "test_group_len = 26\n",
        "PREDICTED, LABEL = predic_model(model_ft, plot_img = False, num_images=test_group_len)\n",
        "\n",
        "test_health_size = len([x for x in range(len(LABEL)) if LABEL[x] == 'health'])\n",
        "test_tumor_size = len([x for x in range(len(LABEL)) if LABEL[x] == 'tumor'])\n",
        "\n",
        "print('\\n Conjunto de Teste \\n')\n",
        "CM_test = confusion_matrix(LABEL, PREDICTED)\n",
        "Sensibilidade = CM_test[1,1]/test_tumor_size # Sensibilidade: é a razão entre as imagens com tumor classificadas corretamente e o total de imagens com tumor (Verdadeiros positivos ÷ tumores)\n",
        "Especificidade = CM_test[0,0]/test_health_size # Especificidade: é a razão entre as imagens sem tumor classificadas corretamente e o total de imagens sem tumor (Verdadeiros negativos ÷ sadios)\n",
        "print('labels = ', LABEL)\n",
        "print('predições = ', PREDICTED)\n",
        "print('matriz de confusão = \\n', CM_test)\n",
        "print('Sensibilidade = ', Sensibilidade)\n",
        "print('Especificidade = ', Especificidade)\n",
        "print('acc = ', len([x for x in range(len(LABEL)) if LABEL[x] == PREDICTED[x]])/test_group_len)\n",
        "\n",
        "string_all.append('Modelo Geral')\n",
        "sensibilidade_all.append(Sensibilidade)\n",
        "especificidade_all.append(Especificidade)\n",
        "acc_all.append(len([x for x in range(len(LABEL)) if LABEL[x] == PREDICTED[x]])/test_group_len)"
      ],
      "execution_count": 114,
      "outputs": [
        {
          "output_type": "stream",
          "text": [
            "\n",
            " Conjunto de Teste \n",
            "\n",
            "labels =  ['tumor', 'health', 'tumor', 'tumor', 'tumor', 'tumor', 'health', 'tumor', 'tumor', 'tumor', 'health', 'tumor', 'tumor', 'health', 'tumor', 'health', 'tumor', 'tumor', 'health', 'health', 'health', 'tumor', 'tumor', 'tumor', 'health', 'health']\n",
            "predições =  ['tumor', 'health', 'tumor', 'health', 'tumor', 'tumor', 'health', 'tumor', 'tumor', 'tumor', 'health', 'tumor', 'tumor', 'health', 'tumor', 'health', 'tumor', 'tumor', 'health', 'health', 'tumor', 'tumor', 'tumor', 'tumor', 'health', 'health']\n",
            "matriz de confusão = \n",
            " [[ 9  1]\n",
            " [ 1 15]]\n",
            "Sensibilidade =  0.9375\n",
            "Especificidade =  0.9\n",
            "acc =  0.9230769230769231\n"
          ],
          "name": "stdout"
        }
      ]
    },
    {
      "cell_type": "markdown",
      "metadata": {
        "id": "w5IfD-MLKhEg"
      },
      "source": [
        "# Resultados"
      ]
    },
    {
      "cell_type": "code",
      "metadata": {
        "id": "k1kWsy9CKalw",
        "colab": {
          "base_uri": "https://localhost:8080/"
        },
        "outputId": "9a4d7b19-2398-45d4-b344-32ef41178b44"
      },
      "source": [
        "for i in range(len(string_all)):\n",
        "  print(string_all[i])\n",
        "  print('Sensibilidade: ', sensibilidade_all[i])\n",
        "  print('Especificidade: ', especificidade_all[i])\n",
        "  print('Accuracy: ', acc_all[i])\n",
        "  print('\\n')"
      ],
      "execution_count": 115,
      "outputs": [
        {
          "output_type": "stream",
          "text": [
            "Original\n",
            "Sensibilidade:  1.0\n",
            "Especificidade:  0.0\n",
            "Accuracy:  0.6153846153846154\n",
            "\n",
            "\n",
            "Versão 1\n",
            "Sensibilidade:  1.0\n",
            "Especificidade:  0.3\n",
            "Accuracy:  0.7307692307692307\n",
            "\n",
            "\n",
            "Versão 2\n",
            "Sensibilidade:  1.0\n",
            "Especificidade:  0.2\n",
            "Accuracy:  0.6923076923076923\n",
            "\n",
            "\n",
            "Versão 3\n",
            "Sensibilidade:  1.0\n",
            "Especificidade:  0.0\n",
            "Accuracy:  0.6153846153846154\n",
            "\n",
            "\n",
            "Versão 4 com opitimizer 1\n",
            "Sensibilidade:  0.75\n",
            "Especificidade:  0.9\n",
            "Accuracy:  0.8076923076923077\n",
            "\n",
            "\n",
            "Versão 4 com opitimizer 2\n",
            "Sensibilidade:  0.875\n",
            "Especificidade:  0.9\n",
            "Accuracy:  0.8846153846153846\n",
            "\n",
            "\n",
            "Versão 4 com opitimizer 3\n",
            "Sensibilidade:  0.8125\n",
            "Especificidade:  1.0\n",
            "Accuracy:  0.8846153846153846\n",
            "\n",
            "\n",
            "Versão 4 com opitimizer 4\n",
            "Sensibilidade:  0.8125\n",
            "Especificidade:  1.0\n",
            "Accuracy:  0.8846153846153846\n",
            "\n",
            "\n",
            "Versão 4 com opitimizer 5\n",
            "Sensibilidade:  0.8125\n",
            "Especificidade:  1.0\n",
            "Accuracy:  0.8846153846153846\n",
            "\n",
            "\n",
            "Finituning the resnet18\n",
            "Sensibilidade:  0.875\n",
            "Especificidade:  1.0\n",
            "Accuracy:  0.9230769230769231\n",
            "\n",
            "\n",
            "Finituning the convnet\n",
            "Sensibilidade:  0.9375\n",
            "Especificidade:  1.0\n",
            "Accuracy:  0.9615384615384616\n",
            "\n",
            "\n",
            "ConvNet as fixed feature extractor\n",
            "Sensibilidade:  0.875\n",
            "Especificidade:  1.0\n",
            "Accuracy:  0.9230769230769231\n",
            "\n",
            "\n",
            "Adicionando camadas\n",
            "Sensibilidade:  0.875\n",
            "Especificidade:  0.7\n",
            "Accuracy:  0.8076923076923077\n",
            "\n",
            "\n",
            "Modelo Geral\n",
            "Sensibilidade:  0.9375\n",
            "Especificidade:  0.9\n",
            "Accuracy:  0.9230769230769231\n",
            "\n",
            "\n"
          ],
          "name": "stdout"
        }
      ]
    },
    {
      "cell_type": "code",
      "metadata": {
        "colab": {
          "base_uri": "https://localhost:8080/",
          "height": 430
        },
        "id": "N8llF-pZfh8R",
        "outputId": "5865754e-5a1f-4539-ef26-ffd3cc007dc4"
      },
      "source": [
        "import matplotlib.pyplot as plt\n",
        "\n",
        "plt.bar(string_all,acc_all)\n",
        "plt.xticks(rotation=90)\n",
        "plt.show()"
      ],
      "execution_count": 119,
      "outputs": [
        {
          "output_type": "display_data",
          "data": {
            "image/png": "[encoded data removed]",
            "text/plain": [
              "<Figure size 432x288 with 1 Axes>"
            ]
          },
          "metadata": {
            "tags": [],
            "needs_background": "light"
          }
        }
      ]
    }
  ]
}